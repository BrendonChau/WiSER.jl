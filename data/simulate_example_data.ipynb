{
 "cells": [
  {
   "cell_type": "markdown",
   "metadata": {},
   "source": [
    "# Simulat an example data set\n",
    "\n",
    "In this notebook, we simulate an example data set for testing purpose. It models the systolic blood pressure (SBP) by predictors age, bmi, gender, and meds."
   ]
  },
  {
   "cell_type": "code",
   "execution_count": 1,
   "metadata": {},
   "outputs": [
    {
     "name": "stdout",
     "output_type": "stream",
     "text": [
      "Julia Version 1.4.1\n",
      "Commit 381693d3df* (2020-04-14 17:20 UTC)\n",
      "Platform Info:\n",
      "  OS: macOS (x86_64-apple-darwin18.7.0)\n",
      "  CPU: Intel(R) Core(TM) i7-4850HQ CPU @ 2.30GHz\n",
      "  WORD_SIZE: 64\n",
      "  LIBM: libopenlibm\n",
      "  LLVM: libLLVM-8.0.1 (ORCJIT, haswell)\n",
      "Environment:\n",
      "  JULIA_NUM_THREADS = 4\n"
     ]
    }
   ],
   "source": [
    "versioninfo()"
   ]
  },
  {
   "cell_type": "code",
   "execution_count": 2,
   "metadata": {},
   "outputs": [],
   "source": [
    "# load needed packages\n",
    "using CSV, DataFrames, Distributions, LinearAlgebra, Random, StatsBase, WiSER"
   ]
  },
  {
   "cell_type": "code",
   "execution_count": 3,
   "metadata": {},
   "outputs": [
    {
     "name": "stdout",
     "output_type": "stream",
     "text": [
      "vy = [7.38905609893065, 7.38905609893065, 7.38905609893065, 7.38905609893065, 7.38905609893065, 7.38905609893065, 7.38905609893065, 7.38905609893065, 7.38905609893065]\n",
      "μy = [160.73568614876524, 161.12726738169906, 160.7523165946845, 160.7897198908203, 160.3457789407866, 160.27668438054704, 160.90340388121535, 160.5821039860477, 161.0410901880801]\n",
      "y = [155.92040542556265, 164.06032803785934, 160.3399467983824, 157.3128981314478, 163.2894577026046, 159.60558405082082, 159.88272843704567, 165.7592300539918, 163.30987783782464]\n"
     ]
    },
    {
     "data": {
      "text/html": [
       "<table class=\"data-frame\"><thead><tr><th></th><th>id</th><th>sbp</th><th>agegroup</th><th>gender</th><th>bmi</th><th>meds</th><th>bmi_std</th></tr><tr><th></th><th>String</th><th>Float64</th><th>Float64</th><th>Int64</th><th>Float64</th><th>Float64</th><th>Float64</th></tr></thead><tbody><p>5,011 rows × 7 columns</p><tr><th>1</th><td>1</td><td>159.586</td><td>3.0</td><td>1</td><td>23.1336</td><td>0.0</td><td>-1.57733</td></tr><tr><th>2</th><td>1</td><td>161.849</td><td>3.0</td><td>1</td><td>26.5885</td><td>0.0</td><td>1.29927</td></tr><tr><th>3</th><td>1</td><td>160.484</td><td>3.0</td><td>1</td><td>24.8428</td><td>0.0</td><td>-0.154204</td></tr><tr><th>4</th><td>1</td><td>161.134</td><td>3.0</td><td>1</td><td>24.9289</td><td>0.0</td><td>-0.0825105</td></tr><tr><th>5</th><td>1</td><td>165.443</td><td>3.0</td><td>1</td><td>24.8057</td><td>0.0</td><td>-0.185105</td></tr><tr><th>6</th><td>1</td><td>160.053</td><td>3.0</td><td>1</td><td>24.1583</td><td>0.0</td><td>-0.72415</td></tr><tr><th>7</th><td>1</td><td>162.1</td><td>3.0</td><td>1</td><td>25.2543</td><td>0.0</td><td>0.188379</td></tr><tr><th>8</th><td>1</td><td>163.153</td><td>3.0</td><td>1</td><td>24.3951</td><td>0.0</td><td>-0.527037</td></tr><tr><th>9</th><td>1</td><td>166.675</td><td>3.0</td><td>1</td><td>26.1514</td><td>0.0</td><td>0.935336</td></tr><tr><th>10</th><td>2</td><td>130.765</td><td>1.0</td><td>1</td><td>22.6263</td><td>0.0</td><td>-1.99977</td></tr><tr><th>11</th><td>2</td><td>131.044</td><td>1.0</td><td>1</td><td>24.7404</td><td>0.0</td><td>-0.239477</td></tr><tr><th>12</th><td>2</td><td>131.22</td><td>1.0</td><td>1</td><td>25.3415</td><td>0.0</td><td>0.260949</td></tr><tr><th>13</th><td>2</td><td>131.96</td><td>1.0</td><td>1</td><td>25.6933</td><td>0.0</td><td>0.553886</td></tr><tr><th>14</th><td>2</td><td>130.09</td><td>1.0</td><td>1</td><td>21.7646</td><td>0.0</td><td>-2.71724</td></tr><tr><th>15</th><td>2</td><td>130.556</td><td>1.0</td><td>1</td><td>23.7895</td><td>0.0</td><td>-1.03123</td></tr><tr><th>16</th><td>2</td><td>132.001</td><td>1.0</td><td>1</td><td>26.9103</td><td>0.0</td><td>1.56716</td></tr><tr><th>17</th><td>2</td><td>131.879</td><td>1.0</td><td>1</td><td>24.1153</td><td>0.0</td><td>-0.759929</td></tr><tr><th>18</th><td>2</td><td>131.609</td><td>1.0</td><td>1</td><td>25.3372</td><td>0.0</td><td>0.257432</td></tr><tr><th>19</th><td>2</td><td>132.149</td><td>1.0</td><td>1</td><td>23.7171</td><td>0.0</td><td>-1.09154</td></tr><tr><th>20</th><td>2</td><td>130.653</td><td>1.0</td><td>1</td><td>25.5947</td><td>0.0</td><td>0.471793</td></tr><tr><th>21</th><td>3</td><td>145.655</td><td>2.0</td><td>1</td><td>25.3645</td><td>0.0</td><td>0.280102</td></tr><tr><th>22</th><td>3</td><td>147.384</td><td>2.0</td><td>1</td><td>26.6756</td><td>0.0</td><td>1.37179</td></tr><tr><th>23</th><td>3</td><td>146.558</td><td>2.0</td><td>1</td><td>25.6001</td><td>0.0</td><td>0.476309</td></tr><tr><th>24</th><td>3</td><td>146.731</td><td>2.0</td><td>1</td><td>26.3532</td><td>0.0</td><td>1.10337</td></tr><tr><th>25</th><td>3</td><td>143.037</td><td>2.0</td><td>1</td><td>24.4092</td><td>0.0</td><td>-0.515285</td></tr><tr><th>26</th><td>3</td><td>144.845</td><td>2.0</td><td>1</td><td>25.1193</td><td>0.0</td><td>0.075975</td></tr><tr><th>27</th><td>3</td><td>145.366</td><td>2.0</td><td>1</td><td>25.5029</td><td>0.0</td><td>0.395354</td></tr><tr><th>28</th><td>3</td><td>145.506</td><td>2.0</td><td>1</td><td>25.9668</td><td>0.0</td><td>0.781658</td></tr><tr><th>29</th><td>3</td><td>143.155</td><td>2.0</td><td>1</td><td>24.9327</td><td>0.0</td><td>-0.0793522</td></tr><tr><th>30</th><td>3</td><td>146.147</td><td>2.0</td><td>1</td><td>25.0029</td><td>0.0</td><td>-0.020953</td></tr><tr><th>&vellip;</th><td>&vellip;</td><td>&vellip;</td><td>&vellip;</td><td>&vellip;</td><td>&vellip;</td><td>&vellip;</td><td>&vellip;</td></tr></tbody></table>"
      ],
      "text/latex": [
       "\\begin{tabular}{r|ccccccc}\n",
       "\t& id & sbp & agegroup & gender & bmi & meds & bmi\\_std\\\\\n",
       "\t\\hline\n",
       "\t& String & Float64 & Float64 & Int64 & Float64 & Float64 & Float64\\\\\n",
       "\t\\hline\n",
       "\t1 & 1 & 159.586 & 3.0 & 1 & 23.1336 & 0.0 & -1.57733 \\\\\n",
       "\t2 & 1 & 161.849 & 3.0 & 1 & 26.5885 & 0.0 & 1.29927 \\\\\n",
       "\t3 & 1 & 160.484 & 3.0 & 1 & 24.8428 & 0.0 & -0.154204 \\\\\n",
       "\t4 & 1 & 161.134 & 3.0 & 1 & 24.9289 & 0.0 & -0.0825105 \\\\\n",
       "\t5 & 1 & 165.443 & 3.0 & 1 & 24.8057 & 0.0 & -0.185105 \\\\\n",
       "\t6 & 1 & 160.053 & 3.0 & 1 & 24.1583 & 0.0 & -0.72415 \\\\\n",
       "\t7 & 1 & 162.1 & 3.0 & 1 & 25.2543 & 0.0 & 0.188379 \\\\\n",
       "\t8 & 1 & 163.153 & 3.0 & 1 & 24.3951 & 0.0 & -0.527037 \\\\\n",
       "\t9 & 1 & 166.675 & 3.0 & 1 & 26.1514 & 0.0 & 0.935336 \\\\\n",
       "\t10 & 2 & 130.765 & 1.0 & 1 & 22.6263 & 0.0 & -1.99977 \\\\\n",
       "\t11 & 2 & 131.044 & 1.0 & 1 & 24.7404 & 0.0 & -0.239477 \\\\\n",
       "\t12 & 2 & 131.22 & 1.0 & 1 & 25.3415 & 0.0 & 0.260949 \\\\\n",
       "\t13 & 2 & 131.96 & 1.0 & 1 & 25.6933 & 0.0 & 0.553886 \\\\\n",
       "\t14 & 2 & 130.09 & 1.0 & 1 & 21.7646 & 0.0 & -2.71724 \\\\\n",
       "\t15 & 2 & 130.556 & 1.0 & 1 & 23.7895 & 0.0 & -1.03123 \\\\\n",
       "\t16 & 2 & 132.001 & 1.0 & 1 & 26.9103 & 0.0 & 1.56716 \\\\\n",
       "\t17 & 2 & 131.879 & 1.0 & 1 & 24.1153 & 0.0 & -0.759929 \\\\\n",
       "\t18 & 2 & 131.609 & 1.0 & 1 & 25.3372 & 0.0 & 0.257432 \\\\\n",
       "\t19 & 2 & 132.149 & 1.0 & 1 & 23.7171 & 0.0 & -1.09154 \\\\\n",
       "\t20 & 2 & 130.653 & 1.0 & 1 & 25.5947 & 0.0 & 0.471793 \\\\\n",
       "\t21 & 3 & 145.655 & 2.0 & 1 & 25.3645 & 0.0 & 0.280102 \\\\\n",
       "\t22 & 3 & 147.384 & 2.0 & 1 & 26.6756 & 0.0 & 1.37179 \\\\\n",
       "\t23 & 3 & 146.558 & 2.0 & 1 & 25.6001 & 0.0 & 0.476309 \\\\\n",
       "\t24 & 3 & 146.731 & 2.0 & 1 & 26.3532 & 0.0 & 1.10337 \\\\\n",
       "\t25 & 3 & 143.037 & 2.0 & 1 & 24.4092 & 0.0 & -0.515285 \\\\\n",
       "\t26 & 3 & 144.845 & 2.0 & 1 & 25.1193 & 0.0 & 0.075975 \\\\\n",
       "\t27 & 3 & 145.366 & 2.0 & 1 & 25.5029 & 0.0 & 0.395354 \\\\\n",
       "\t28 & 3 & 145.506 & 2.0 & 1 & 25.9668 & 0.0 & 0.781658 \\\\\n",
       "\t29 & 3 & 143.155 & 2.0 & 1 & 24.9327 & 0.0 & -0.0793522 \\\\\n",
       "\t30 & 3 & 146.147 & 2.0 & 1 & 25.0029 & 0.0 & -0.020953 \\\\\n",
       "\t$\\dots$ & $\\dots$ & $\\dots$ & $\\dots$ & $\\dots$ & $\\dots$ & $\\dots$ & $\\dots$ \\\\\n",
       "\\end{tabular}\n"
      ],
      "text/plain": [
       "5011×7 DataFrame\n",
       "│ Row  │ id     │ sbp     │ agegroup │ gender │ bmi     │ meds    │ bmi_std    │\n",
       "│      │ \u001b[90mString\u001b[39m │ \u001b[90mFloat64\u001b[39m │ \u001b[90mFloat64\u001b[39m  │ \u001b[90mInt64\u001b[39m  │ \u001b[90mFloat64\u001b[39m │ \u001b[90mFloat64\u001b[39m │ \u001b[90mFloat64\u001b[39m    │\n",
       "├──────┼────────┼─────────┼──────────┼────────┼─────────┼─────────┼────────────┤\n",
       "│ 1    │ 1      │ 159.586 │ 3.0      │ 1      │ 23.1336 │ 0.0     │ -1.57733   │\n",
       "│ 2    │ 1      │ 161.849 │ 3.0      │ 1      │ 26.5885 │ 0.0     │ 1.29927    │\n",
       "│ 3    │ 1      │ 160.484 │ 3.0      │ 1      │ 24.8428 │ 0.0     │ -0.154204  │\n",
       "│ 4    │ 1      │ 161.134 │ 3.0      │ 1      │ 24.9289 │ 0.0     │ -0.0825105 │\n",
       "│ 5    │ 1      │ 165.443 │ 3.0      │ 1      │ 24.8057 │ 0.0     │ -0.185105  │\n",
       "│ 6    │ 1      │ 160.053 │ 3.0      │ 1      │ 24.1583 │ 0.0     │ -0.72415   │\n",
       "│ 7    │ 1      │ 162.1   │ 3.0      │ 1      │ 25.2543 │ 0.0     │ 0.188379   │\n",
       "│ 8    │ 1      │ 163.153 │ 3.0      │ 1      │ 24.3951 │ 0.0     │ -0.527037  │\n",
       "│ 9    │ 1      │ 166.675 │ 3.0      │ 1      │ 26.1514 │ 0.0     │ 0.935336   │\n",
       "│ 10   │ 2      │ 130.765 │ 1.0      │ 1      │ 22.6263 │ 0.0     │ -1.99977   │\n",
       "⋮\n",
       "│ 5001 │ 499    │ 152.893 │ 3.0      │ 0      │ 24.0633 │ 0.0     │ -0.803273  │\n",
       "│ 5002 │ 499    │ 154.394 │ 3.0      │ 0      │ 26.3314 │ 0.0     │ 1.08521    │\n",
       "│ 5003 │ 500    │ 148.485 │ 3.0      │ 0      │ 23.2373 │ 0.0     │ -1.49104   │\n",
       "│ 5004 │ 500    │ 149.752 │ 3.0      │ 0      │ 22.7247 │ 0.0     │ -1.91781   │\n",
       "│ 5005 │ 500    │ 155.672 │ 3.0      │ 0      │ 24.4651 │ 0.0     │ -0.468741  │\n",
       "│ 5006 │ 500    │ 148.389 │ 3.0      │ 0      │ 25.8129 │ 0.0     │ 0.653514   │\n",
       "│ 5007 │ 500    │ 152.491 │ 3.0      │ 0      │ 24.5818 │ 0.0     │ -0.371555  │\n",
       "│ 5008 │ 500    │ 153.844 │ 3.0      │ 0      │ 25.721  │ 0.0     │ 0.57693    │\n",
       "│ 5009 │ 500    │ 150.164 │ 3.0      │ 0      │ 24.3545 │ 0.0     │ -0.560843  │\n",
       "│ 5010 │ 500    │ 150.248 │ 3.0      │ 0      │ 23.8532 │ 0.0     │ -0.978159  │\n",
       "│ 5011 │ 500    │ 152.433 │ 3.0      │ 0      │ 26.1232 │ 0.0     │ 0.911814   │"
      ]
     },
     "execution_count": 3,
     "metadata": {},
     "output_type": "execute_result"
    }
   ],
   "source": [
    "Random.seed!(123)\n",
    "# dimensions\n",
    "m  = 500 # number of individuals\n",
    "ns = rand(9:11, m) # numbers of observations per individual\n",
    "p  = 5    # number of fixed effects, including intercept\n",
    "q  = 2    # number of random effects, including intercept\n",
    "l  = 4    # number of WS variance covariates, including intercept\n",
    "obsvec = Vector{WSVarLmmObs{Float64}}(undef, m)\n",
    "# true parameter values\n",
    "βtrue = [100.0; 15.0; 10.0; 0.25; -10.0] # intercept, agegroup, #gender, #bmi, #meds\n",
    "τtrue = [-2.5; 1.5; -0.5; 0.0] # intercept, agegroup, meds, bmi\n",
    "Σγ    = Matrix(Diagonal([1.0; 0.0]))\n",
    "δγω   = [0.0; 0.0; zeros(q - 2) ./ 10]\n",
    "σω    = [0.0]\n",
    "Σγω   = [Σγ δγω; δγω' σω]\n",
    "Lγω   = cholesky(Symmetric(Σγω), check = false).L\n",
    "Lγ    = Lγω[1:q, 1:q]\n",
    "lγω   = Lγω[q + 1, 1:q]\n",
    "lω    = Lγω[q + 1, q + 1]\n",
    "# generate data\n",
    "γω = Vector{Float64}(undef, q + 1)\n",
    "z  = similar(γω) # hold vector of iid std normal\n",
    "df = DataFrame(id = String[], sbp = Float64[], agegroup = Float64[], \n",
    "    gender = Int64[], bmi = Float64[], meds = Float64[])\n",
    "for i in 1:m\n",
    "    # first column intercept, remaining entries iid std normal\n",
    "    X = Matrix{Float64}(undef, ns[i], p)\n",
    "    X[:, 1] .= 1\n",
    "    agegroup = Distributions.rand(1:3) #age\n",
    "    gender = Distributions.rand(Bernoulli(0.5)) #gender\n",
    "    meds = Distributions.rand(Bernoulli(0.2)) #meds\n",
    "    bmi = Distributions.rand(Normal(25, 1.2), ns[i])\n",
    "    @views fill!(X[:, 2], agegroup)\n",
    "    @views fill!(X[:, 3], Int(gender))\n",
    "    @views copyto!(X[:, 4], bmi)\n",
    "    @views fill!(X[:, 5], meds)\n",
    "    # first column intercept, remaining entries iid std normal\n",
    "    Z = Matrix{Float64}(undef, ns[i], q)\n",
    "    Z[:, 1] .= 1\n",
    "    @views copyto!(Z[:, 2], X[:, 4]) #bmi \n",
    "    # first column intercept, remaining entries iid std normal\n",
    "    W = Matrix{Float64}(undef, ns[i], l)\n",
    "    W[:, 1] .= 1\n",
    "    @views copyto!(W[:, 2], X[:, 2]) #agegroup\n",
    "    @views copyto!(W[:, 3], X[:, 5]) #meds\n",
    "    @views copyto!(W[:, 4], X[:, 4]) #bmi\n",
    "    # generate random effects: γω = Lγω * z\n",
    "    mul!(γω, Lγω, Distributions.rand!(Normal(), z))\n",
    "    # generate y\n",
    "    μy = X * βtrue + Z * γω[1:q]\n",
    "    @views vy = exp.(W * τtrue .+ dot(γω[1:q], lγω) .+ γω[end])\n",
    "    y = rand(MvNormal(μy, Diagonal(vy)))\n",
    "    if i == 8\n",
    "        @show vy\n",
    "        @show μy\n",
    "        @show y\n",
    "    end\n",
    "    id = fill(string(i), ns[i])\n",
    "    tempdf = DataFrame([id y X[:, 2:p]])\n",
    "    rename!(tempdf, [:id, :sbp, :agegroup, :gender, :bmi, :meds])\n",
    "    # form a WSVarLmmObs instance\n",
    "    append!(df, tempdf)\n",
    "end\n",
    "rename!(df, [:id, :sbp, :agegroup, :gender, :bmi, :meds])\n",
    "df[!, :bmi_std] = zscore(df[!, :bmi])\n",
    "df"
   ]
  },
  {
   "cell_type": "code",
   "execution_count": 4,
   "metadata": {},
   "outputs": [
    {
     "data": {
      "text/html": [
       "<table class=\"data-frame\"><thead><tr><th></th><th>variable</th><th>mean</th><th>min</th><th>median</th><th>max</th><th>nunique</th><th>nmissing</th><th>eltype</th></tr><tr><th></th><th>Symbol</th><th>Union…</th><th>Any</th><th>Union…</th><th>Any</th><th>Union…</th><th>Union…</th><th>Type</th></tr></thead><tbody><p>8 rows × 8 columns</p><tr><th>1</th><td>id</td><td></td><td>1</td><td></td><td>99</td><td>500</td><td></td><td>String</td></tr><tr><th>2</th><td>sbp</td><td>140.365</td><td>109.865</td><td>139.44</td><td>171.545</td><td></td><td></td><td>Float64</td></tr><tr><th>3</th><td>agegroup</td><td>2.05388</td><td>1.0</td><td>2.0</td><td>3.0</td><td></td><td></td><td>Float64</td></tr><tr><th>4</th><td>gender</td><td></td><td>Female</td><td></td><td>Male</td><td>2</td><td></td><td>String</td></tr><tr><th>5</th><td>bmi</td><td>25.028</td><td>20.7168</td><td>25.0226</td><td>29.6457</td><td></td><td></td><td>Float64</td></tr><tr><th>6</th><td>meds</td><td></td><td>NoMeds</td><td></td><td>OnMeds</td><td>2</td><td></td><td>String</td></tr><tr><th>7</th><td>bmi_std</td><td>-4.95579e-16</td><td>-3.58964</td><td>-0.00450848</td><td>3.84477</td><td></td><td></td><td>Float64</td></tr><tr><th>8</th><td>obswt</td><td>3.12213</td><td>1.0</td><td>3.0</td><td>5.0</td><td></td><td>0</td><td>Union{Missing, Float64}</td></tr></tbody></table>"
      ],
      "text/latex": [
       "\\begin{tabular}{r|cccccccc}\n",
       "\t& variable & mean & min & median & max & nunique & nmissing & eltype\\\\\n",
       "\t\\hline\n",
       "\t& Symbol & Union… & Any & Union… & Any & Union… & Union… & Type\\\\\n",
       "\t\\hline\n",
       "\t1 & id &  & 1 &  & 99 & 500 &  & String \\\\\n",
       "\t2 & sbp & 140.365 & 109.865 & 139.44 & 171.545 &  &  & Float64 \\\\\n",
       "\t3 & agegroup & 2.05388 & 1.0 & 2.0 & 3.0 &  &  & Float64 \\\\\n",
       "\t4 & gender &  & Female &  & Male & 2 &  & String \\\\\n",
       "\t5 & bmi & 25.028 & 20.7168 & 25.0226 & 29.6457 &  &  & Float64 \\\\\n",
       "\t6 & meds &  & NoMeds &  & OnMeds & 2 &  & String \\\\\n",
       "\t7 & bmi\\_std & -4.95579e-16 & -3.58964 & -0.00450848 & 3.84477 &  &  & Float64 \\\\\n",
       "\t8 & obswt & 3.12213 & 1.0 & 3.0 & 5.0 &  & 0 & Union\\{Missing, Float64\\} \\\\\n",
       "\\end{tabular}\n"
      ],
      "text/plain": [
       "8×8 DataFrame. Omitted printing of 2 columns\n",
       "│ Row │ variable │ mean         │ min      │ median      │ max     │ nunique │\n",
       "│     │ \u001b[90mSymbol\u001b[39m   │ \u001b[90mUnion…\u001b[39m       │ \u001b[90mAny\u001b[39m      │ \u001b[90mUnion…\u001b[39m      │ \u001b[90mAny\u001b[39m     │ \u001b[90mUnion…\u001b[39m  │\n",
       "├─────┼──────────┼──────────────┼──────────┼─────────────┼─────────┼─────────┤\n",
       "│ 1   │ id       │              │ 1        │             │ 99      │ 500     │\n",
       "│ 2   │ sbp      │ 140.365      │ 109.865  │ 139.44      │ 171.545 │         │\n",
       "│ 3   │ agegroup │ 2.05388      │ 1.0      │ 2.0         │ 3.0     │         │\n",
       "│ 4   │ gender   │              │ Female   │             │ Male    │ 2       │\n",
       "│ 5   │ bmi      │ 25.028       │ 20.7168  │ 25.0226     │ 29.6457 │         │\n",
       "│ 6   │ meds     │              │ NoMeds   │             │ OnMeds  │ 2       │\n",
       "│ 7   │ bmi_std  │ -4.95579e-16 │ -3.58964 │ -0.00450848 │ 3.84477 │         │\n",
       "│ 8   │ obswt    │ 3.12213      │ 1.0      │ 3.0         │ 5.0     │         │"
      ]
     },
     "execution_count": 4,
     "metadata": {},
     "output_type": "execute_result"
    }
   ],
   "source": [
    "df = leftjoin(df, combine(groupby(df, :id), :id => (x -> rand(1.0:5.0)) => :obswt), on = :id) #add observation weights \n",
    "df[!, :gender] = map(x -> x == 1 ? \"Male\" : \"Female\", df[!, :gender]);\n",
    "df[!, :meds] = map(x -> x == 1 ? \"OnMeds\" : \"NoMeds\", df[!, :meds]);\n",
    "describe(df)"
   ]
  },
  {
   "cell_type": "markdown",
   "metadata": {},
   "source": [
    "Form a `WSVarLmmModel` object and fit the WiSER model."
   ]
  },
  {
   "cell_type": "code",
   "execution_count": 5,
   "metadata": {},
   "outputs": [],
   "source": [
    "vlmm = WSVarLmmModel(\n",
    "    @formula(sbp ~ 1 + agegroup + gender + bmi_std + meds), \n",
    "    @formula(sbp ~ 1 + bmi_std), \n",
    "    @formula(sbp ~ 1 + agegroup + meds + bmi_std),\n",
    "    :id, df);"
   ]
  },
  {
   "cell_type": "code",
   "execution_count": 6,
   "metadata": {},
   "outputs": [
    {
     "name": "stdout",
     "output_type": "stream",
     "text": [
      "\n",
      "******************************************************************************\n",
      "This program contains Ipopt, a library for large-scale nonlinear optimization.\n",
      " Ipopt is released as open source code under the Eclipse Public License (EPL).\n",
      "         For more information visit http://projects.coin-or.org/Ipopt\n",
      "******************************************************************************\n",
      "\n",
      "run = 1, ‖Δβ‖ = 0.037311, ‖Δτ‖ = 0.166678, ‖ΔL‖ = 0.100999, status = Optimal, time(s) = 0.336550\n",
      "run = 2, ‖Δβ‖ = 0.005220, ‖Δτ‖ = 0.006748, ‖ΔL‖ = 0.048735, status = Optimal, time(s) = 0.206969\n"
     ]
    },
    {
     "data": {
      "text/plain": [
       "\n",
       "Within-subject variance estimation by robust regression (WiSER)\n",
       "Number of individuals/clusters: 500\n",
       "Total observations: 5011\n",
       "\n",
       "Fixed-effects parameters:\n",
       "───────────────────────────────────────────────────────────\n",
       "                     Estimate  Std. Error       Z  Pr(>|Z|)\n",
       "───────────────────────────────────────────────────────────\n",
       "β1: (Intercept)   106.308       0.14384    739.07    <1e-99\n",
       "β2: agegroup       14.9844      0.0633245  236.63    <1e-99\n",
       "β3: gender: Male   10.0749      0.100279   100.47    <1e-99\n",
       "β4: bmi_std         0.296424    0.0139071   21.31    <1e-99\n",
       "β5: meds: OnMeds  -10.1107      0.122918   -82.26    <1e-99\n",
       "τ1: (Intercept)    -2.5212      0.393792    -6.40    <1e-9\n",
       "τ2: agegroup        1.50759     0.135456    11.13    <1e-28\n",
       "τ3: meds: OnMeds   -0.435225    0.0621076   -7.01    <1e-11\n",
       "τ4: bmi_std         0.0052695   0.0224039    0.24    0.8140\n",
       "───────────────────────────────────────────────────────────\n",
       "Random effects covariance matrix Σγ:\n",
       " \"γ1: (Intercept)\"  1.00196    0.0181387\n",
       " \"γ2: bmi_std\"      0.0181387  0.000549357\n",
       "\n"
      ]
     },
     "execution_count": 6,
     "metadata": {},
     "output_type": "execute_result"
    }
   ],
   "source": [
    "WiSER.fit!(vlmm)"
   ]
  },
  {
   "cell_type": "code",
   "execution_count": 7,
   "metadata": {},
   "outputs": [
    {
     "data": {
      "text/plain": [
       "\"sbp.csv\""
      ]
     },
     "execution_count": 7,
     "metadata": {},
     "output_type": "execute_result"
    }
   ],
   "source": [
    "CSV.write(\"sbp.csv\", df)"
   ]
  }
 ],
 "metadata": {
  "@webio": {
   "lastCommId": null,
   "lastKernelId": null
  },
  "kernelspec": {
   "display_name": "Julia 1.4.1",
   "language": "julia",
   "name": "julia-1.4"
  },
  "language_info": {
   "file_extension": ".jl",
   "mimetype": "application/julia",
   "name": "julia",
   "version": "1.4.1"
  }
 },
 "nbformat": 4,
 "nbformat_minor": 4
}
