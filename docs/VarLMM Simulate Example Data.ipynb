{
 "cells": [
  {
   "cell_type": "code",
   "execution_count": 1,
   "metadata": {},
   "outputs": [
    {
     "name": "stderr",
     "output_type": "stream",
     "text": [
      "┌ Info: generate data\n",
      "└ @ Main In[1]:2\n"
     ]
    },
    {
     "name": "stdout",
     "output_type": "stream",
     "text": [
      "vy = [7.38905609893065, 7.38905609893065, 7.38905609893065, 7.38905609893065, 7.38905609893065, 7.38905609893065, 7.38905609893065, 7.38905609893065, 7.38905609893065]\n",
      "μy = [160.73568614876524, 161.12726738169906, 160.7523165946845, 160.7897198908203, 160.3457789407866, 160.27668438054704, 160.90340388121535, 160.5821039860477, 161.0410901880801]\n",
      "y = [155.92040542556265, 164.06032803785934, 160.3399467983824, 157.3128981314478, 163.2894577026046, 159.60558405082082, 159.88272843704567, 165.7592300539918, 163.30987783782464]\n"
     ]
    },
    {
     "data": {
      "text/html": [
       "<table class=\"data-frame\"><thead><tr><th></th><th>id</th><th>sbp</th><th>agegroup</th><th>gender</th><th>bmi</th><th>meds</th></tr><tr><th></th><th>String</th><th>Float64</th><th>Float64</th><th>Int64</th><th>Float64</th><th>Float64</th></tr></thead><tbody><p>5,011 rows × 6 columns</p><tr><th>1</th><td>1</td><td>159.586</td><td>3.0</td><td>1</td><td>23.1336</td><td>0.0</td></tr><tr><th>2</th><td>1</td><td>161.849</td><td>3.0</td><td>1</td><td>26.5885</td><td>0.0</td></tr><tr><th>3</th><td>1</td><td>160.484</td><td>3.0</td><td>1</td><td>24.8428</td><td>0.0</td></tr><tr><th>4</th><td>1</td><td>161.134</td><td>3.0</td><td>1</td><td>24.9289</td><td>0.0</td></tr><tr><th>5</th><td>1</td><td>165.443</td><td>3.0</td><td>1</td><td>24.8057</td><td>0.0</td></tr><tr><th>6</th><td>1</td><td>160.053</td><td>3.0</td><td>1</td><td>24.1583</td><td>0.0</td></tr><tr><th>7</th><td>1</td><td>162.1</td><td>3.0</td><td>1</td><td>25.2543</td><td>0.0</td></tr><tr><th>8</th><td>1</td><td>163.153</td><td>3.0</td><td>1</td><td>24.3951</td><td>0.0</td></tr><tr><th>9</th><td>1</td><td>166.675</td><td>3.0</td><td>1</td><td>26.1514</td><td>0.0</td></tr><tr><th>10</th><td>2</td><td>130.765</td><td>1.0</td><td>1</td><td>22.6263</td><td>0.0</td></tr><tr><th>11</th><td>2</td><td>131.044</td><td>1.0</td><td>1</td><td>24.7404</td><td>0.0</td></tr><tr><th>12</th><td>2</td><td>131.22</td><td>1.0</td><td>1</td><td>25.3415</td><td>0.0</td></tr><tr><th>13</th><td>2</td><td>131.96</td><td>1.0</td><td>1</td><td>25.6933</td><td>0.0</td></tr><tr><th>14</th><td>2</td><td>130.09</td><td>1.0</td><td>1</td><td>21.7646</td><td>0.0</td></tr><tr><th>15</th><td>2</td><td>130.556</td><td>1.0</td><td>1</td><td>23.7895</td><td>0.0</td></tr><tr><th>16</th><td>2</td><td>132.001</td><td>1.0</td><td>1</td><td>26.9103</td><td>0.0</td></tr><tr><th>17</th><td>2</td><td>131.879</td><td>1.0</td><td>1</td><td>24.1153</td><td>0.0</td></tr><tr><th>18</th><td>2</td><td>131.609</td><td>1.0</td><td>1</td><td>25.3372</td><td>0.0</td></tr><tr><th>19</th><td>2</td><td>132.149</td><td>1.0</td><td>1</td><td>23.7171</td><td>0.0</td></tr><tr><th>20</th><td>2</td><td>130.653</td><td>1.0</td><td>1</td><td>25.5947</td><td>0.0</td></tr><tr><th>21</th><td>3</td><td>145.655</td><td>2.0</td><td>1</td><td>25.3645</td><td>0.0</td></tr><tr><th>22</th><td>3</td><td>147.384</td><td>2.0</td><td>1</td><td>26.6756</td><td>0.0</td></tr><tr><th>23</th><td>3</td><td>146.558</td><td>2.0</td><td>1</td><td>25.6001</td><td>0.0</td></tr><tr><th>24</th><td>3</td><td>146.731</td><td>2.0</td><td>1</td><td>26.3532</td><td>0.0</td></tr><tr><th>25</th><td>3</td><td>143.037</td><td>2.0</td><td>1</td><td>24.4092</td><td>0.0</td></tr><tr><th>26</th><td>3</td><td>144.845</td><td>2.0</td><td>1</td><td>25.1193</td><td>0.0</td></tr><tr><th>27</th><td>3</td><td>145.366</td><td>2.0</td><td>1</td><td>25.5029</td><td>0.0</td></tr><tr><th>28</th><td>3</td><td>145.506</td><td>2.0</td><td>1</td><td>25.9668</td><td>0.0</td></tr><tr><th>29</th><td>3</td><td>143.155</td><td>2.0</td><td>1</td><td>24.9327</td><td>0.0</td></tr><tr><th>30</th><td>3</td><td>146.147</td><td>2.0</td><td>1</td><td>25.0029</td><td>0.0</td></tr><tr><th>&vellip;</th><td>&vellip;</td><td>&vellip;</td><td>&vellip;</td><td>&vellip;</td><td>&vellip;</td><td>&vellip;</td></tr></tbody></table>"
      ],
      "text/latex": [
       "\\begin{tabular}{r|cccccc}\n",
       "\t& id & sbp & agegroup & gender & bmi & meds\\\\\n",
       "\t\\hline\n",
       "\t& String & Float64 & Float64 & Int64 & Float64 & Float64\\\\\n",
       "\t\\hline\n",
       "\t1 & 1 & 159.586 & 3.0 & 1 & 23.1336 & 0.0 \\\\\n",
       "\t2 & 1 & 161.849 & 3.0 & 1 & 26.5885 & 0.0 \\\\\n",
       "\t3 & 1 & 160.484 & 3.0 & 1 & 24.8428 & 0.0 \\\\\n",
       "\t4 & 1 & 161.134 & 3.0 & 1 & 24.9289 & 0.0 \\\\\n",
       "\t5 & 1 & 165.443 & 3.0 & 1 & 24.8057 & 0.0 \\\\\n",
       "\t6 & 1 & 160.053 & 3.0 & 1 & 24.1583 & 0.0 \\\\\n",
       "\t7 & 1 & 162.1 & 3.0 & 1 & 25.2543 & 0.0 \\\\\n",
       "\t8 & 1 & 163.153 & 3.0 & 1 & 24.3951 & 0.0 \\\\\n",
       "\t9 & 1 & 166.675 & 3.0 & 1 & 26.1514 & 0.0 \\\\\n",
       "\t10 & 2 & 130.765 & 1.0 & 1 & 22.6263 & 0.0 \\\\\n",
       "\t11 & 2 & 131.044 & 1.0 & 1 & 24.7404 & 0.0 \\\\\n",
       "\t12 & 2 & 131.22 & 1.0 & 1 & 25.3415 & 0.0 \\\\\n",
       "\t13 & 2 & 131.96 & 1.0 & 1 & 25.6933 & 0.0 \\\\\n",
       "\t14 & 2 & 130.09 & 1.0 & 1 & 21.7646 & 0.0 \\\\\n",
       "\t15 & 2 & 130.556 & 1.0 & 1 & 23.7895 & 0.0 \\\\\n",
       "\t16 & 2 & 132.001 & 1.0 & 1 & 26.9103 & 0.0 \\\\\n",
       "\t17 & 2 & 131.879 & 1.0 & 1 & 24.1153 & 0.0 \\\\\n",
       "\t18 & 2 & 131.609 & 1.0 & 1 & 25.3372 & 0.0 \\\\\n",
       "\t19 & 2 & 132.149 & 1.0 & 1 & 23.7171 & 0.0 \\\\\n",
       "\t20 & 2 & 130.653 & 1.0 & 1 & 25.5947 & 0.0 \\\\\n",
       "\t21 & 3 & 145.655 & 2.0 & 1 & 25.3645 & 0.0 \\\\\n",
       "\t22 & 3 & 147.384 & 2.0 & 1 & 26.6756 & 0.0 \\\\\n",
       "\t23 & 3 & 146.558 & 2.0 & 1 & 25.6001 & 0.0 \\\\\n",
       "\t24 & 3 & 146.731 & 2.0 & 1 & 26.3532 & 0.0 \\\\\n",
       "\t25 & 3 & 143.037 & 2.0 & 1 & 24.4092 & 0.0 \\\\\n",
       "\t26 & 3 & 144.845 & 2.0 & 1 & 25.1193 & 0.0 \\\\\n",
       "\t27 & 3 & 145.366 & 2.0 & 1 & 25.5029 & 0.0 \\\\\n",
       "\t28 & 3 & 145.506 & 2.0 & 1 & 25.9668 & 0.0 \\\\\n",
       "\t29 & 3 & 143.155 & 2.0 & 1 & 24.9327 & 0.0 \\\\\n",
       "\t30 & 3 & 146.147 & 2.0 & 1 & 25.0029 & 0.0 \\\\\n",
       "\t$\\dots$ & $\\dots$ & $\\dots$ & $\\dots$ & $\\dots$ & $\\dots$ & $\\dots$ \\\\\n",
       "\\end{tabular}\n"
      ],
      "text/plain": [
       "5011×6 DataFrame\n",
       "│ Row  │ id     │ sbp     │ agegroup │ gender │ bmi     │ meds    │\n",
       "│      │ \u001b[90mString\u001b[39m │ \u001b[90mFloat64\u001b[39m │ \u001b[90mFloat64\u001b[39m  │ \u001b[90mInt64\u001b[39m  │ \u001b[90mFloat64\u001b[39m │ \u001b[90mFloat64\u001b[39m │\n",
       "├──────┼────────┼─────────┼──────────┼────────┼─────────┼─────────┤\n",
       "│ 1    │ 1      │ 159.586 │ 3.0      │ 1      │ 23.1336 │ 0.0     │\n",
       "│ 2    │ 1      │ 161.849 │ 3.0      │ 1      │ 26.5885 │ 0.0     │\n",
       "│ 3    │ 1      │ 160.484 │ 3.0      │ 1      │ 24.8428 │ 0.0     │\n",
       "│ 4    │ 1      │ 161.134 │ 3.0      │ 1      │ 24.9289 │ 0.0     │\n",
       "│ 5    │ 1      │ 165.443 │ 3.0      │ 1      │ 24.8057 │ 0.0     │\n",
       "│ 6    │ 1      │ 160.053 │ 3.0      │ 1      │ 24.1583 │ 0.0     │\n",
       "│ 7    │ 1      │ 162.1   │ 3.0      │ 1      │ 25.2543 │ 0.0     │\n",
       "│ 8    │ 1      │ 163.153 │ 3.0      │ 1      │ 24.3951 │ 0.0     │\n",
       "│ 9    │ 1      │ 166.675 │ 3.0      │ 1      │ 26.1514 │ 0.0     │\n",
       "│ 10   │ 2      │ 130.765 │ 1.0      │ 1      │ 22.6263 │ 0.0     │\n",
       "⋮\n",
       "│ 5001 │ 499    │ 152.893 │ 3.0      │ 0      │ 24.0633 │ 0.0     │\n",
       "│ 5002 │ 499    │ 154.394 │ 3.0      │ 0      │ 26.3314 │ 0.0     │\n",
       "│ 5003 │ 500    │ 148.485 │ 3.0      │ 0      │ 23.2373 │ 0.0     │\n",
       "│ 5004 │ 500    │ 149.752 │ 3.0      │ 0      │ 22.7247 │ 0.0     │\n",
       "│ 5005 │ 500    │ 155.672 │ 3.0      │ 0      │ 24.4651 │ 0.0     │\n",
       "│ 5006 │ 500    │ 148.389 │ 3.0      │ 0      │ 25.8129 │ 0.0     │\n",
       "│ 5007 │ 500    │ 152.491 │ 3.0      │ 0      │ 24.5818 │ 0.0     │\n",
       "│ 5008 │ 500    │ 153.844 │ 3.0      │ 0      │ 25.721  │ 0.0     │\n",
       "│ 5009 │ 500    │ 150.164 │ 3.0      │ 0      │ 24.3545 │ 0.0     │\n",
       "│ 5010 │ 500    │ 150.248 │ 3.0      │ 0      │ 23.8532 │ 0.0     │\n",
       "│ 5011 │ 500    │ 152.433 │ 3.0      │ 0      │ 26.1232 │ 0.0     │"
      ]
     },
     "execution_count": 1,
     "metadata": {},
     "output_type": "execute_result"
    }
   ],
   "source": [
    "using VarLMM, Random, LinearAlgebra, Distributions, DataFrames, CSV\n",
    "@info \"generate data\"\n",
    "Random.seed!(123)\n",
    "# dimensions\n",
    "m  = 500 # number of individuals\n",
    "ns = rand(9:11, m) # numbers of observations per individual\n",
    "p  = 5    # number of fixed effects, including intercept\n",
    "q  = 2    # number of random effects, including intercept\n",
    "l  = 4    # number of WS variance covariates, including intercept\n",
    "obsvec = Vector{VarLmmObs{Float64}}(undef, m)\n",
    "# true parameter values\n",
    "βtrue = [100.0; 15.0; 10.0; 0.25; -10.0] #intercept, agegroup, #gender, #bmi, #meds\n",
    "τtrue = [-2.5; 1.5; -0.5; 0.0] #intercept, agegroup, meds, bmi\n",
    "Σγ    = Matrix(Diagonal([1.0; 0.0]))\n",
    "δγω   = [0.0; 0.0; zeros(q - 2) ./ 10]\n",
    "σω    = [0.0]\n",
    "Σγω   = [Σγ δγω; δγω' σω]\n",
    "Lγω   = cholesky(Symmetric(Σγω), check = false).L\n",
    "Lγ    = Lγω[1:q, 1:q]\n",
    "lγω   = Lγω[q + 1, 1:q]\n",
    "lω    = Lγω[q + 1, q + 1]\n",
    "# generate data\n",
    "γω = Vector{Float64}(undef, q + 1)\n",
    "z  = similar(γω) # hold vector of iid std normal\n",
    "df = DataFrame(id = String[], sbp = Float64[], agegroup = Float64[], \n",
    "    gender=Int64[], bmi = Float64[], meds = Float64[])\n",
    "for i in 1:m\n",
    "    # first column intercept, remaining entries iid std normal\n",
    "    X = Matrix{Float64}(undef, ns[i], p)\n",
    "    X[:, 1] .= 1\n",
    "    agegroup = Distributions.rand(1:3) #age\n",
    "    gender = Distributions.rand(Bernoulli(0.5)) #gender\n",
    "    meds = Distributions.rand(Bernoulli(0.2)) #meds\n",
    "    bmi = Distributions.rand(Normal(25, 1.2), ns[i])\n",
    "    @views fill!(X[:, 2], agegroup)\n",
    "    @views fill!(X[:, 3], Int(gender))\n",
    "    @views copyto!(X[:, 4], bmi)\n",
    "    @views fill!(X[:, 5], meds)\n",
    "    # first column intercept, remaining entries iid std normal\n",
    "    Z = Matrix{Float64}(undef, ns[i], q)\n",
    "    Z[:, 1] .= 1\n",
    "    @views copyto!(Z[:, 2], X[:, 4]) #bmi \n",
    "    # first column intercept, remaining entries iid std normal\n",
    "    W = Matrix{Float64}(undef, ns[i], l)\n",
    "    W[:, 1] .= 1\n",
    "    @views copyto!(W[:, 2], X[:, 2]) #agegroup\n",
    "    @views copyto!(W[:, 3], X[:, 5]) #meds\n",
    "    @views copyto!(W[:, 4], X[:, 4]) #bmi\n",
    "    # generate random effects: γω = Lγω * z\n",
    "    mul!(γω, Lγω, Distributions.rand!(Normal(), z))\n",
    "    # generate y\n",
    "    μy = X * βtrue + Z * γω[1:q]\n",
    "    @views vy = exp.(W * τtrue .+ dot(γω[1:q], lγω) .+ γω[end])\n",
    "    y = rand(MvNormal(μy, Diagonal(vy)))\n",
    "        if i == 8\n",
    "        @show vy\n",
    "        @show μy\n",
    "        @show y\n",
    "    end\n",
    "    id = fill(string(i), ns[i])\n",
    "    tempdf = DataFrame([id y X[:, 2:p]])\n",
    "    rename!(tempdf, [:id, :sbp, :agegroup, :gender, :bmi, :meds])\n",
    "    # form a VarLmmObs instance\n",
    "    append!(df, tempdf)\n",
    "end\n",
    "rename!(df, [:id, :sbp, :agegroup, :gender, :bmi, :meds])"
   ]
  },
  {
   "cell_type": "code",
   "execution_count": 2,
   "metadata": {},
   "outputs": [
    {
     "data": {
      "text/html": [
       "<table class=\"data-frame\"><thead><tr><th></th><th>variable</th><th>mean</th><th>min</th><th>median</th><th>max</th><th>nunique</th><th>nmissing</th><th>eltype</th></tr><tr><th></th><th>Symbol</th><th>Union…</th><th>Any</th><th>Union…</th><th>Any</th><th>Union…</th><th>Nothing</th><th>DataType</th></tr></thead><tbody><p>6 rows × 8 columns</p><tr><th>1</th><td>id</td><td></td><td>1</td><td></td><td>99</td><td>500</td><td></td><td>String</td></tr><tr><th>2</th><td>sbp</td><td>140.365</td><td>109.865</td><td>139.44</td><td>171.545</td><td></td><td></td><td>Float64</td></tr><tr><th>3</th><td>agegroup</td><td>2.05388</td><td>1.0</td><td>2.0</td><td>3.0</td><td></td><td></td><td>Float64</td></tr><tr><th>4</th><td>gender</td><td>0.492716</td><td>0</td><td>0.0</td><td>1</td><td></td><td></td><td>Int64</td></tr><tr><th>5</th><td>bmi</td><td>25.028</td><td>20.7168</td><td>25.0226</td><td>29.6457</td><td></td><td></td><td>Float64</td></tr><tr><th>6</th><td>meds</td><td>0.166633</td><td>0.0</td><td>0.0</td><td>1.0</td><td></td><td></td><td>Float64</td></tr></tbody></table>"
      ],
      "text/latex": [
       "\\begin{tabular}{r|cccccccc}\n",
       "\t& variable & mean & min & median & max & nunique & nmissing & eltype\\\\\n",
       "\t\\hline\n",
       "\t& Symbol & Union… & Any & Union… & Any & Union… & Nothing & DataType\\\\\n",
       "\t\\hline\n",
       "\t1 & id &  & 1 &  & 99 & 500 &  & String \\\\\n",
       "\t2 & sbp & 140.365 & 109.865 & 139.44 & 171.545 &  &  & Float64 \\\\\n",
       "\t3 & agegroup & 2.05388 & 1.0 & 2.0 & 3.0 &  &  & Float64 \\\\\n",
       "\t4 & gender & 0.492716 & 0 & 0.0 & 1 &  &  & Int64 \\\\\n",
       "\t5 & bmi & 25.028 & 20.7168 & 25.0226 & 29.6457 &  &  & Float64 \\\\\n",
       "\t6 & meds & 0.166633 & 0.0 & 0.0 & 1.0 &  &  & Float64 \\\\\n",
       "\\end{tabular}\n"
      ],
      "text/plain": [
       "6×8 DataFrame. Omitted printing of 1 columns\n",
       "│ Row │ variable │ mean     │ min     │ median  │ max     │ nunique │ nmissing │\n",
       "│     │ \u001b[90mSymbol\u001b[39m   │ \u001b[90mUnion…\u001b[39m   │ \u001b[90mAny\u001b[39m     │ \u001b[90mUnion…\u001b[39m  │ \u001b[90mAny\u001b[39m     │ \u001b[90mUnion…\u001b[39m  │ \u001b[90mNothing\u001b[39m  │\n",
       "├─────┼──────────┼──────────┼─────────┼─────────┼─────────┼─────────┼──────────┤\n",
       "│ 1   │ id       │          │ 1       │         │ 99      │ 500     │          │\n",
       "│ 2   │ sbp      │ 140.365  │ 109.865 │ 139.44  │ 171.545 │         │          │\n",
       "│ 3   │ agegroup │ 2.05388  │ 1.0     │ 2.0     │ 3.0     │         │          │\n",
       "│ 4   │ gender   │ 0.492716 │ 0       │ 0.0     │ 1       │         │          │\n",
       "│ 5   │ bmi      │ 25.028   │ 20.7168 │ 25.0226 │ 29.6457 │         │          │\n",
       "│ 6   │ meds     │ 0.166633 │ 0.0     │ 0.0     │ 1.0     │         │          │"
      ]
     },
     "execution_count": 2,
     "metadata": {},
     "output_type": "execute_result"
    }
   ],
   "source": [
    "describe(df)"
   ]
  },
  {
   "cell_type": "code",
   "execution_count": 3,
   "metadata": {},
   "outputs": [],
   "source": [
    "df[!, :gender] = map(x -> x == 1 ? \"Male\" : \"Female\", df[!, :gender]);\n",
    "df[!, :meds] = map(x -> x == 1 ? \"OnMeds\" : \"NoMeds\", df[!, :meds]);"
   ]
  },
  {
   "cell_type": "code",
   "execution_count": 4,
   "metadata": {},
   "outputs": [
    {
     "data": {
      "text/html": [
       "<table class=\"data-frame\"><thead><tr><th></th><th>variable</th><th>mean</th><th>min</th><th>median</th><th>max</th><th>nunique</th><th>nmissing</th><th>eltype</th></tr><tr><th></th><th>Symbol</th><th>Union…</th><th>Any</th><th>Union…</th><th>Any</th><th>Union…</th><th>Nothing</th><th>DataType</th></tr></thead><tbody><p>6 rows × 8 columns</p><tr><th>1</th><td>id</td><td></td><td>1</td><td></td><td>99</td><td>500</td><td></td><td>String</td></tr><tr><th>2</th><td>sbp</td><td>140.365</td><td>109.865</td><td>139.44</td><td>171.545</td><td></td><td></td><td>Float64</td></tr><tr><th>3</th><td>agegroup</td><td>2.05388</td><td>1.0</td><td>2.0</td><td>3.0</td><td></td><td></td><td>Float64</td></tr><tr><th>4</th><td>gender</td><td></td><td>Female</td><td></td><td>Male</td><td>2</td><td></td><td>String</td></tr><tr><th>5</th><td>bmi</td><td>25.028</td><td>20.7168</td><td>25.0226</td><td>29.6457</td><td></td><td></td><td>Float64</td></tr><tr><th>6</th><td>meds</td><td></td><td>NoMeds</td><td></td><td>OnMeds</td><td>2</td><td></td><td>String</td></tr></tbody></table>"
      ],
      "text/latex": [
       "\\begin{tabular}{r|cccccccc}\n",
       "\t& variable & mean & min & median & max & nunique & nmissing & eltype\\\\\n",
       "\t\\hline\n",
       "\t& Symbol & Union… & Any & Union… & Any & Union… & Nothing & DataType\\\\\n",
       "\t\\hline\n",
       "\t1 & id &  & 1 &  & 99 & 500 &  & String \\\\\n",
       "\t2 & sbp & 140.365 & 109.865 & 139.44 & 171.545 &  &  & Float64 \\\\\n",
       "\t3 & agegroup & 2.05388 & 1.0 & 2.0 & 3.0 &  &  & Float64 \\\\\n",
       "\t4 & gender &  & Female &  & Male & 2 &  & String \\\\\n",
       "\t5 & bmi & 25.028 & 20.7168 & 25.0226 & 29.6457 &  &  & Float64 \\\\\n",
       "\t6 & meds &  & NoMeds &  & OnMeds & 2 &  & String \\\\\n",
       "\\end{tabular}\n"
      ],
      "text/plain": [
       "6×8 DataFrame. Omitted printing of 1 columns\n",
       "│ Row │ variable │ mean    │ min     │ median  │ max     │ nunique │ nmissing │\n",
       "│     │ \u001b[90mSymbol\u001b[39m   │ \u001b[90mUnion…\u001b[39m  │ \u001b[90mAny\u001b[39m     │ \u001b[90mUnion…\u001b[39m  │ \u001b[90mAny\u001b[39m     │ \u001b[90mUnion…\u001b[39m  │ \u001b[90mNothing\u001b[39m  │\n",
       "├─────┼──────────┼─────────┼─────────┼─────────┼─────────┼─────────┼──────────┤\n",
       "│ 1   │ id       │         │ 1       │         │ 99      │ 500     │          │\n",
       "│ 2   │ sbp      │ 140.365 │ 109.865 │ 139.44  │ 171.545 │         │          │\n",
       "│ 3   │ agegroup │ 2.05388 │ 1.0     │ 2.0     │ 3.0     │         │          │\n",
       "│ 4   │ gender   │         │ Female  │         │ Male    │ 2       │          │\n",
       "│ 5   │ bmi      │ 25.028  │ 20.7168 │ 25.0226 │ 29.6457 │         │          │\n",
       "│ 6   │ meds     │         │ NoMeds  │         │ OnMeds  │ 2       │          │"
      ]
     },
     "execution_count": 4,
     "metadata": {},
     "output_type": "execute_result"
    }
   ],
   "source": [
    "describe(df)"
   ]
  },
  {
   "cell_type": "code",
   "execution_count": 5,
   "metadata": {},
   "outputs": [],
   "source": [
    "vlmm = VarLmmModel(@formula(sbp ~ 1 + agegroup + gender + bmi + meds), \n",
    "    @formula(sbp ~ 1 + bmi), \n",
    "    @formula(sbp ~ 1 + agegroup + meds + bmi),\n",
    "    :id, df);"
   ]
  },
  {
   "cell_type": "code",
   "execution_count": 6,
   "metadata": {},
   "outputs": [
    {
     "name": "stdout",
     "output_type": "stream",
     "text": [
      "\n",
      "******************************************************************************\n",
      "This program contains Ipopt, a library for large-scale nonlinear optimization.\n",
      " Ipopt is released as open source code under the Eclipse Public License (EPL).\n",
      "         For more information visit http://projects.coin-or.org/Ipopt\n",
      "******************************************************************************\n",
      "\n",
      "This is Ipopt version 3.12.10, running with linear solver mumps.\n",
      "NOTE: Other linear solvers might be more efficient (see Ipopt documentation).\n",
      "\n",
      "Number of nonzeros in equality constraint Jacobian...:        0\n",
      "Number of nonzeros in inequality constraint Jacobian.:        0\n",
      "Number of nonzeros in Lagrangian Hessian.............:       28\n",
      "\n",
      "Total number of variables............................:        7\n",
      "                     variables with only lower bounds:        0\n",
      "                variables with lower and upper bounds:        0\n",
      "                     variables with only upper bounds:        0\n",
      "Total number of equality constraints.................:        0\n",
      "Total number of inequality constraints...............:        0\n",
      "        inequality constraints with only lower bounds:        0\n",
      "   inequality constraints with lower and upper bounds:        0\n",
      "        inequality constraints with only upper bounds:        0\n",
      "\n",
      "iter    objective    inf_pr   inf_du lg(mu)  ||d||  lg(rg) alpha_du alpha_pr  ls\n",
      "   0  7.7723228e+05 0.00e+00 1.00e+02  -1.0 0.00e+00    -  0.00e+00 0.00e+00   0\n",
      "   1  7.4765718e+05 0.00e+00 2.80e+01  -1.0 4.79e+00    -  1.00e+00 1.00e+00f  1\n",
      "   2  7.4428050e+05 0.00e+00 5.82e+00  -1.0 1.74e+00    -  1.00e+00 1.00e+00f  1\n",
      "   3  7.4404053e+05 0.00e+00 8.94e-01  -1.0 7.36e-01    -  1.00e+00 1.00e+00f  1\n",
      "   4  7.4403646e+05 0.00e+00 2.07e-02  -1.7 1.30e-01    -  1.00e+00 1.00e+00f  1\n",
      "   5  7.4403646e+05 0.00e+00 8.30e-05  -3.8 4.78e-03    -  1.00e+00 1.00e+00f  1\n",
      "   6  7.4403646e+05 0.00e+00 6.34e-06  -5.7 2.34e-04    -  1.00e+00 1.00e+00f  1\n",
      "   7  7.4403646e+05 0.00e+00 4.32e-07  -8.6 1.65e-05    -  1.00e+00 1.00e+00f  1\n",
      "   8  7.4403646e+05 0.00e+00 2.94e-08  -8.6 1.11e-06    -  1.00e+00 1.00e+00f  1\n",
      "   9  7.4403646e+05 0.00e+00 2.00e-09  -8.6 7.56e-08    -  1.00e+00 1.00e+00f  1\n",
      "\n",
      "Number of Iterations....: 9\n",
      "\n",
      "                                   (scaled)                 (unscaled)\n",
      "Objective...............:   6.2264336013196719e+01    7.4403645586897677e+05\n",
      "Dual infeasibility......:   2.0030133505991364e-09    2.3935290245802321e-05\n",
      "Constraint violation....:   0.0000000000000000e+00    0.0000000000000000e+00\n",
      "Complementarity.........:   0.0000000000000000e+00    0.0000000000000000e+00\n",
      "Overall NLP error.......:   2.0030133505991364e-09    2.3935290245802321e-05\n",
      "\n",
      "\n",
      "Number of objective function evaluations             = 10\n",
      "Number of objective gradient evaluations             = 10\n",
      "Number of equality constraint evaluations            = 0\n",
      "Number of inequality constraint evaluations          = 0\n",
      "Number of equality constraint Jacobian evaluations   = 0\n",
      "Number of inequality constraint Jacobian evaluations = 0\n",
      "Number of Lagrangian Hessian evaluations             = 9\n",
      "Total CPU secs in IPOPT (w/o function evaluations)   =      0.113\n",
      "Total CPU secs in NLP function evaluations           =      0.140\n",
      "\n",
      "EXIT: Optimal Solution Found.\n",
      "This is Ipopt version 3.12.10, running with linear solver mumps.\n",
      "NOTE: Other linear solvers might be more efficient (see Ipopt documentation).\n",
      "\n",
      "Number of nonzeros in equality constraint Jacobian...:        0\n",
      "Number of nonzeros in inequality constraint Jacobian.:        0\n",
      "Number of nonzeros in Lagrangian Hessian.............:       28\n",
      "\n",
      "Total number of variables............................:        7\n",
      "                     variables with only lower bounds:        0\n",
      "                variables with lower and upper bounds:        0\n",
      "                     variables with only upper bounds:        0\n",
      "Total number of equality constraints.................:        0\n",
      "Total number of inequality constraints...............:        0\n",
      "        inequality constraints with only lower bounds:        0\n",
      "   inequality constraints with lower and upper bounds:        0\n",
      "        inequality constraints with only upper bounds:        0\n",
      "\n",
      "iter    objective    inf_pr   inf_du lg(mu)  ||d||  lg(rg) alpha_du alpha_pr  ls\n",
      "   0  2.8527985e+04 0.00e+00 1.00e+02  -1.0 0.00e+00    -  0.00e+00 0.00e+00   0\n",
      "   1  2.8499531e+04 0.00e+00 2.18e+01  -1.0 1.80e+00    -  1.00e+00 1.00e+00f  1\n",
      "   2  2.8498485e+04 0.00e+00 4.87e+00  -1.0 6.59e-01    -  1.00e+00 1.00e+00f  1\n",
      "   3  2.8498419e+04 0.00e+00 1.56e+00  -1.0 1.18e-01    -  1.00e+00 1.00e+00f  1\n",
      "   4  2.8498416e+04 0.00e+00 1.57e-02  -1.0 4.12e-03    -  1.00e+00 1.00e+00f  1\n",
      "   5  2.8498416e+04 0.00e+00 4.17e-07  -3.8 4.65e-06    -  1.00e+00 1.00e+00f  1\n",
      "   6  2.8498416e+04 0.00e+00 3.60e-08  -8.6 1.93e-08    -  1.00e+00 1.00e+00f  1\n",
      "   7  2.8498416e+04 0.00e+00 7.33e-10  -8.6 5.03e-09    -  1.00e+00 1.00e+00f  1\n",
      "\n",
      "Number of Iterations....: 7\n",
      "\n",
      "                                   (scaled)                 (unscaled)\n",
      "Objective...............:   7.5487575994680867e+02    2.8498415962524363e+04\n",
      "Dual infeasibility......:   7.3264397570166928e-10    2.7659111445643703e-08\n",
      "Constraint violation....:   0.0000000000000000e+00    0.0000000000000000e+00\n",
      "Complementarity.........:   0.0000000000000000e+00    0.0000000000000000e+00\n",
      "Overall NLP error.......:   7.3264397570166928e-10    2.7659111445643703e-08\n",
      "\n",
      "\n",
      "Number of objective function evaluations             = 8\n",
      "Number of objective gradient evaluations             = 8\n",
      "Number of equality constraint evaluations            = 0\n",
      "Number of inequality constraint evaluations          = 0\n",
      "Number of equality constraint Jacobian evaluations   = 0\n",
      "Number of inequality constraint Jacobian evaluations = 0\n",
      "Number of Lagrangian Hessian evaluations             = 7\n",
      "Total CPU secs in IPOPT (w/o function evaluations)   =      0.010\n",
      "Total CPU secs in NLP function evaluations           =      0.141\n",
      "\n",
      "EXIT: Optimal Solution Found.\n"
     ]
    },
    {
     "data": {
      "text/plain": [
       "───────────────────────────────────────────────────────────────────\n",
       "                  Estimate  Std. Error  Wald Statistic  Pr(>|Wald|)\n",
       "───────────────────────────────────────────────────────────────────\n",
       "(Intercept)   100.077        0.346108         83606.99       <1e-99\n",
       "agegroup       14.9864       0.063344         55973.45       <1e-99\n",
       "gender: Male   10.0725       0.100267         10091.56       <1e-99\n",
       "bmi             0.248811     0.0126703          385.62       <1e-85\n",
       "meds: OnMeds  -10.115        0.123701          6686.30       <1e-99\n",
       "(Intercept)    -2.63253      1.0034               6.88       0.0087\n",
       "agegroup        1.50585      0.0567203          704.84       <1e-99\n",
       "meds: OnMeds   -0.426159     0.0535525           63.33       <1e-14\n",
       "bmi             0.00434957   0.0472932            0.01       0.9267\n",
       "───────────────────────────────────────────────────────────────────"
      ]
     },
     "execution_count": 6,
     "metadata": {},
     "output_type": "execute_result"
    }
   ],
   "source": [
    "fit!(vlmm)"
   ]
  },
  {
   "cell_type": "code",
   "execution_count": 7,
   "metadata": {},
   "outputs": [
    {
     "data": {
      "text/plain": [
       "\"varlmm_exdata.csv\""
      ]
     },
     "execution_count": 7,
     "metadata": {},
     "output_type": "execute_result"
    }
   ],
   "source": [
    "CSV.write(\"varlmm_exdata.csv\", df)"
   ]
  },
  {
   "cell_type": "code",
   "execution_count": null,
   "metadata": {},
   "outputs": [],
   "source": []
  }
 ],
 "metadata": {
  "@webio": {
   "lastCommId": null,
   "lastKernelId": null
  },
  "kernelspec": {
   "display_name": "Julia 1.3.1",
   "language": "julia",
   "name": "julia-1.3"
  },
  "language_info": {
   "file_extension": ".jl",
   "mimetype": "application/julia",
   "name": "julia",
   "version": "1.3.1"
  }
 },
 "nbformat": 4,
 "nbformat_minor": 2
}
