{
 "cells": [
  {
   "cell_type": "markdown",
   "metadata": {},
   "source": [
    "# VarLMM.jl"
   ]
  },
  {
   "cell_type": "markdown",
   "metadata": {},
   "source": [
    "`VarLMM.jl` is a Julia package for modeling within-subject variability of a longitudinal measurement. \n",
    "\n",
    "In addition to mean levels, it can be important to model factors influencing within-subject variability of longitudinal outcomes. We utilize a modified linear mixed effects model where ---. How much methods?"
   ]
  },
  {
   "cell_type": "markdown",
   "metadata": {},
   "source": [
    "# Installation"
   ]
  },
  {
   "cell_type": "markdown",
   "metadata": {},
   "source": [
    "This package requires Julia v1.0 or later, which can be obtained from https://julialang.org/downloads/ or by building Julia from the sources in the https://github.com/JuliaLang/julia repository.\n",
    "\n",
    "The package has not yet been registered and must be installed using the repository location. Start Julia and use the ] key to switch to the package manager REPL\n",
    "```\n",
    "(v1.1) pkg> add TODO: ADD URL\n",
    "```\n",
    "Use the backspace key to return to the Julia REPL."
   ]
  },
  {
   "cell_type": "code",
   "execution_count": 1,
   "metadata": {},
   "outputs": [],
   "source": [
    "using VarLMM, CSV, Random, JuliaDB"
   ]
  },
  {
   "cell_type": "markdown",
   "metadata": {},
   "source": [
    "# Example Usage"
   ]
  },
  {
   "cell_type": "markdown",
   "metadata": {},
   "source": [
    "The example dataset, `varlmm_exdata.csv`, is contained in `data` folder of the package. It is a simulated datatset with 500 individuals, each having 10 observations. The outcome, systolic blood pressure (sbp), is a function of other covariates. Below we read in the data with the [CSV package](https://juliadata.github.io/CSV.jl) which stores it into a `DataFrame` object. The package can take other data table objects, such as `IndexedTables` generated from reading in data with the [JuliaDB](https://github.com/JuliaData/JuliaDB.jl) package. "
   ]
  },
  {
   "cell_type": "code",
   "execution_count": 2,
   "metadata": {},
   "outputs": [
    {
     "data": {
      "text/html": [
       "<table class=\"data-frame\"><thead><tr><th></th><th>id</th><th>sbp</th><th>agegroup</th><th>gender</th><th>bmi</th><th>meds</th></tr><tr><th></th><th>Int64</th><th>Float64</th><th>Float64</th><th>String</th><th>Float64</th><th>String</th></tr></thead><tbody><p>5,011 rows × 6 columns</p><tr><th>1</th><td>1</td><td>139.586</td><td>3.0</td><td>Male</td><td>23.1336</td><td>NoMeds</td></tr><tr><th>2</th><td>1</td><td>141.849</td><td>3.0</td><td>Male</td><td>26.5885</td><td>NoMeds</td></tr><tr><th>3</th><td>1</td><td>140.484</td><td>3.0</td><td>Male</td><td>24.8428</td><td>NoMeds</td></tr><tr><th>4</th><td>1</td><td>141.134</td><td>3.0</td><td>Male</td><td>24.9289</td><td>NoMeds</td></tr><tr><th>5</th><td>1</td><td>145.443</td><td>3.0</td><td>Male</td><td>24.8057</td><td>NoMeds</td></tr><tr><th>6</th><td>1</td><td>140.053</td><td>3.0</td><td>Male</td><td>24.1583</td><td>NoMeds</td></tr><tr><th>7</th><td>1</td><td>142.1</td><td>3.0</td><td>Male</td><td>25.2543</td><td>NoMeds</td></tr><tr><th>8</th><td>1</td><td>143.153</td><td>3.0</td><td>Male</td><td>24.3951</td><td>NoMeds</td></tr><tr><th>9</th><td>1</td><td>146.675</td><td>3.0</td><td>Male</td><td>26.1514</td><td>NoMeds</td></tr><tr><th>10</th><td>2</td><td>110.765</td><td>1.0</td><td>Male</td><td>22.6263</td><td>NoMeds</td></tr><tr><th>11</th><td>2</td><td>111.044</td><td>1.0</td><td>Male</td><td>24.7404</td><td>NoMeds</td></tr><tr><th>12</th><td>2</td><td>111.22</td><td>1.0</td><td>Male</td><td>25.3415</td><td>NoMeds</td></tr><tr><th>13</th><td>2</td><td>111.96</td><td>1.0</td><td>Male</td><td>25.6933</td><td>NoMeds</td></tr><tr><th>14</th><td>2</td><td>110.09</td><td>1.0</td><td>Male</td><td>21.7646</td><td>NoMeds</td></tr><tr><th>15</th><td>2</td><td>110.556</td><td>1.0</td><td>Male</td><td>23.7895</td><td>NoMeds</td></tr><tr><th>16</th><td>2</td><td>112.001</td><td>1.0</td><td>Male</td><td>26.9103</td><td>NoMeds</td></tr><tr><th>17</th><td>2</td><td>111.879</td><td>1.0</td><td>Male</td><td>24.1153</td><td>NoMeds</td></tr><tr><th>18</th><td>2</td><td>111.609</td><td>1.0</td><td>Male</td><td>25.3372</td><td>NoMeds</td></tr><tr><th>19</th><td>2</td><td>112.149</td><td>1.0</td><td>Male</td><td>23.7171</td><td>NoMeds</td></tr><tr><th>20</th><td>2</td><td>110.653</td><td>1.0</td><td>Male</td><td>25.5947</td><td>NoMeds</td></tr><tr><th>21</th><td>3</td><td>125.655</td><td>2.0</td><td>Male</td><td>25.3645</td><td>NoMeds</td></tr><tr><th>22</th><td>3</td><td>127.384</td><td>2.0</td><td>Male</td><td>26.6756</td><td>NoMeds</td></tr><tr><th>23</th><td>3</td><td>126.558</td><td>2.0</td><td>Male</td><td>25.6001</td><td>NoMeds</td></tr><tr><th>24</th><td>3</td><td>126.731</td><td>2.0</td><td>Male</td><td>26.3532</td><td>NoMeds</td></tr><tr><th>25</th><td>3</td><td>123.037</td><td>2.0</td><td>Male</td><td>24.4092</td><td>NoMeds</td></tr><tr><th>26</th><td>3</td><td>124.845</td><td>2.0</td><td>Male</td><td>25.1193</td><td>NoMeds</td></tr><tr><th>27</th><td>3</td><td>125.366</td><td>2.0</td><td>Male</td><td>25.5029</td><td>NoMeds</td></tr><tr><th>28</th><td>3</td><td>125.506</td><td>2.0</td><td>Male</td><td>25.9668</td><td>NoMeds</td></tr><tr><th>29</th><td>3</td><td>123.155</td><td>2.0</td><td>Male</td><td>24.9327</td><td>NoMeds</td></tr><tr><th>30</th><td>3</td><td>126.147</td><td>2.0</td><td>Male</td><td>25.0029</td><td>NoMeds</td></tr><tr><th>&vellip;</th><td>&vellip;</td><td>&vellip;</td><td>&vellip;</td><td>&vellip;</td><td>&vellip;</td><td>&vellip;</td></tr></tbody></table>"
      ],
      "text/latex": [
       "\\begin{tabular}{r|cccccc}\n",
       "\t& id & sbp & agegroup & gender & bmi & meds\\\\\n",
       "\t\\hline\n",
       "\t& Int64 & Float64 & Float64 & String & Float64 & String\\\\\n",
       "\t\\hline\n",
       "\t1 & 1 & 139.586 & 3.0 & Male & 23.1336 & NoMeds \\\\\n",
       "\t2 & 1 & 141.849 & 3.0 & Male & 26.5885 & NoMeds \\\\\n",
       "\t3 & 1 & 140.484 & 3.0 & Male & 24.8428 & NoMeds \\\\\n",
       "\t4 & 1 & 141.134 & 3.0 & Male & 24.9289 & NoMeds \\\\\n",
       "\t5 & 1 & 145.443 & 3.0 & Male & 24.8057 & NoMeds \\\\\n",
       "\t6 & 1 & 140.053 & 3.0 & Male & 24.1583 & NoMeds \\\\\n",
       "\t7 & 1 & 142.1 & 3.0 & Male & 25.2543 & NoMeds \\\\\n",
       "\t8 & 1 & 143.153 & 3.0 & Male & 24.3951 & NoMeds \\\\\n",
       "\t9 & 1 & 146.675 & 3.0 & Male & 26.1514 & NoMeds \\\\\n",
       "\t10 & 2 & 110.765 & 1.0 & Male & 22.6263 & NoMeds \\\\\n",
       "\t11 & 2 & 111.044 & 1.0 & Male & 24.7404 & NoMeds \\\\\n",
       "\t12 & 2 & 111.22 & 1.0 & Male & 25.3415 & NoMeds \\\\\n",
       "\t13 & 2 & 111.96 & 1.0 & Male & 25.6933 & NoMeds \\\\\n",
       "\t14 & 2 & 110.09 & 1.0 & Male & 21.7646 & NoMeds \\\\\n",
       "\t15 & 2 & 110.556 & 1.0 & Male & 23.7895 & NoMeds \\\\\n",
       "\t16 & 2 & 112.001 & 1.0 & Male & 26.9103 & NoMeds \\\\\n",
       "\t17 & 2 & 111.879 & 1.0 & Male & 24.1153 & NoMeds \\\\\n",
       "\t18 & 2 & 111.609 & 1.0 & Male & 25.3372 & NoMeds \\\\\n",
       "\t19 & 2 & 112.149 & 1.0 & Male & 23.7171 & NoMeds \\\\\n",
       "\t20 & 2 & 110.653 & 1.0 & Male & 25.5947 & NoMeds \\\\\n",
       "\t21 & 3 & 125.655 & 2.0 & Male & 25.3645 & NoMeds \\\\\n",
       "\t22 & 3 & 127.384 & 2.0 & Male & 26.6756 & NoMeds \\\\\n",
       "\t23 & 3 & 126.558 & 2.0 & Male & 25.6001 & NoMeds \\\\\n",
       "\t24 & 3 & 126.731 & 2.0 & Male & 26.3532 & NoMeds \\\\\n",
       "\t25 & 3 & 123.037 & 2.0 & Male & 24.4092 & NoMeds \\\\\n",
       "\t26 & 3 & 124.845 & 2.0 & Male & 25.1193 & NoMeds \\\\\n",
       "\t27 & 3 & 125.366 & 2.0 & Male & 25.5029 & NoMeds \\\\\n",
       "\t28 & 3 & 125.506 & 2.0 & Male & 25.9668 & NoMeds \\\\\n",
       "\t29 & 3 & 123.155 & 2.0 & Male & 24.9327 & NoMeds \\\\\n",
       "\t30 & 3 & 126.147 & 2.0 & Male & 25.0029 & NoMeds \\\\\n",
       "\t$\\dots$ & $\\dots$ & $\\dots$ & $\\dots$ & $\\dots$ & $\\dots$ & $\\dots$ \\\\\n",
       "\\end{tabular}\n"
      ],
      "text/plain": [
       "5011×6 DataFrame\n",
       "│ Row  │ id    │ sbp     │ agegroup │ gender │ bmi     │ meds   │\n",
       "│      │ \u001b[90mInt64\u001b[39m │ \u001b[90mFloat64\u001b[39m │ \u001b[90mFloat64\u001b[39m  │ \u001b[90mString\u001b[39m │ \u001b[90mFloat64\u001b[39m │ \u001b[90mString\u001b[39m │\n",
       "├──────┼───────┼─────────┼──────────┼────────┼─────────┼────────┤\n",
       "│ 1    │ 1     │ 139.586 │ 3.0      │ Male   │ 23.1336 │ NoMeds │\n",
       "│ 2    │ 1     │ 141.849 │ 3.0      │ Male   │ 26.5885 │ NoMeds │\n",
       "│ 3    │ 1     │ 140.484 │ 3.0      │ Male   │ 24.8428 │ NoMeds │\n",
       "│ 4    │ 1     │ 141.134 │ 3.0      │ Male   │ 24.9289 │ NoMeds │\n",
       "│ 5    │ 1     │ 145.443 │ 3.0      │ Male   │ 24.8057 │ NoMeds │\n",
       "│ 6    │ 1     │ 140.053 │ 3.0      │ Male   │ 24.1583 │ NoMeds │\n",
       "│ 7    │ 1     │ 142.1   │ 3.0      │ Male   │ 25.2543 │ NoMeds │\n",
       "│ 8    │ 1     │ 143.153 │ 3.0      │ Male   │ 24.3951 │ NoMeds │\n",
       "│ 9    │ 1     │ 146.675 │ 3.0      │ Male   │ 26.1514 │ NoMeds │\n",
       "│ 10   │ 2     │ 110.765 │ 1.0      │ Male   │ 22.6263 │ NoMeds │\n",
       "⋮\n",
       "│ 5001 │ 499   │ 152.893 │ 3.0      │ Female │ 24.0633 │ NoMeds │\n",
       "│ 5002 │ 499   │ 154.394 │ 3.0      │ Female │ 26.3314 │ NoMeds │\n",
       "│ 5003 │ 500   │ 148.485 │ 3.0      │ Female │ 23.2373 │ NoMeds │\n",
       "│ 5004 │ 500   │ 149.752 │ 3.0      │ Female │ 22.7247 │ NoMeds │\n",
       "│ 5005 │ 500   │ 155.672 │ 3.0      │ Female │ 24.4651 │ NoMeds │\n",
       "│ 5006 │ 500   │ 148.389 │ 3.0      │ Female │ 25.8129 │ NoMeds │\n",
       "│ 5007 │ 500   │ 152.491 │ 3.0      │ Female │ 24.5818 │ NoMeds │\n",
       "│ 5008 │ 500   │ 153.844 │ 3.0      │ Female │ 25.721  │ NoMeds │\n",
       "│ 5009 │ 500   │ 150.164 │ 3.0      │ Female │ 24.3545 │ NoMeds │\n",
       "│ 5010 │ 500   │ 150.248 │ 3.0      │ Female │ 23.8532 │ NoMeds │\n",
       "│ 5011 │ 500   │ 152.433 │ 3.0      │ Female │ 26.1232 │ NoMeds │"
      ]
     },
     "execution_count": 2,
     "metadata": {},
     "output_type": "execute_result"
    }
   ],
   "source": [
    "filepath = normpath(joinpath(dirname(pathof(VarLMM)), \"../data/\"))\n",
    "df = CSV.read(filepath * \"varlmm_exdata.csv\")"
   ]
  },
  {
   "cell_type": "markdown",
   "metadata": {},
   "source": [
    "## Loading Data Into Model"
   ]
  },
  {
   "cell_type": "markdown",
   "metadata": {},
   "source": [
    "First we will create a VarLmmModel object from the dataframe.\n",
    "\n",
    "The `VarLmmModel()` function takes the following arguments: \n",
    "\n",
    "- `meanformula`: the formula for the mean fixed effects β (variables in X matrix)\n",
    "- `reformula`: the formula for the mean random effects γ (variables in Z matrix)\n",
    "- `wsvarformula`: the formula  for the within-subject variance fixed effects τ (variables in W matrix). \n",
    "- `idvar`: the id variable for groupings. \n",
    "- `datatable`: the datatable holding all of the data for the model. Can be a DataFrame or various types of tables such as an IndexedTable.\n",
    "\n",
    "For documentation of the ordinalgwas function, type `?VarLmmModel` in Julia REPL."
   ]
  },
  {
   "cell_type": "markdown",
   "metadata": {},
   "source": [
    "We will model sbp as a function of age, gender, and bmi. The following commands fit the following model:\n",
    "\n",
    "$sbp_{ij} = \\beta_0 + \\beta_1 \\text{agegroup}_{ij} + \\beta_2 \\text{gender}_{ij} + \\beta_3 \\text{bmi}_{ij} + \\gamma_{i0} + \\gamma_{i1}\\text{bmi} + \\epsilon_{ij}$\n",
    "\n",
    "$\\epsilon_{ij}$ is distributed with mean 0 variance $\\sigma^2_{\\epsilon_{ij}}$\n",
    "\n",
    "$\\gamma_{i} = (\\gamma_{i0}, \\gamma_{i1})$ has mean **0** and variance $\\Sigma_\\gamma$\n",
    "\n",
    "$\\sigma^2_{\\epsilon_{ij}} = exp(\\tau_0 + \\tau_1 \\text{agegroup}_{ij} + \\tau_2 \\text{gender}_{ij} + \\tau_3 \\text{bmi}_{ij})$"
   ]
  },
  {
   "cell_type": "code",
   "execution_count": 3,
   "metadata": {},
   "outputs": [],
   "source": [
    "vlmm = VarLmmModel(@formula(sbp ~ 1 + agegroup + gender + bmi + meds), \n",
    "    @formula(sbp ~ 1 + bmi), \n",
    "    @formula(sbp ~ 1 + agegroup + meds + bmi),\n",
    "    :id, df);"
   ]
  },
  {
   "cell_type": "markdown",
   "metadata": {},
   "source": [
    "The `vlmm` object has the appropriate data. We can use the `fit!()` function to fit the model."
   ]
  },
  {
   "cell_type": "markdown",
   "metadata": {},
   "source": [
    "## Fitting\n",
    "\n",
    "The `fit!()` function takes the following arguments:\n",
    "* `m::VarLmmModel` the model to fit.\n",
    "* `solver` by default this is Ipopt.IpoptSolver(print_level=5, watchdog_shortened_iter_trigger=3)\n",
    "* `fittype` by default this is :Hybrid. Performing the Hybrid fit described below. The other options are :Weighted and :Unweighted.\n",
    "* `weightedruns` by default this is 1.\n",
    "\n",
    "### Fittypes\n",
    "The `fit!()` function fits with the following procedures based on `fittype`. The default is `:Hybrid`.\n",
    "\n",
    "**:Hybrid**\n",
    "\n",
    "1. Intialize parameters through least squares $(\\beta, \\tau, L_\\gamma)$ for initial starting points.\n",
    "2. Re-Estimate $(\\tau, L_\\gamma)$ through the unweighted objective function (method of moments).\n",
    "3. Re-estimate $\\beta$ with weighted least squares using $(\\tau, L_\\gamma)$ estimates. \n",
    "4. For 1:weightedruns\n",
    "    - 4a. Update working covariance matrix $V_i^{(0)}$ with current estimates of $(\\tau, \\Sigma_\\gamma)$.\n",
    "    - 4b. Re-estimate $(\\tau, \\Sigma_\\gamma)$ using weighted estimating equations (weighted objective function).\n",
    "5. Use final estimates and conduct inference.\n",
    "\n",
    "\n",
    "**:Weighted**\n",
    "1. Intialize parameters through least squares $(\\beta, \\tau, \\Sigma)$ for initial starting points.\n",
    "2. Re-estimate $\\beta$ with weighted least squares using $(\\tau, \\Sigma_\\gamma)$ estimates. \n",
    "3. For 1:weightedruns\n",
    "    - 3a. Update $V_i^{(0)}$ with current estimates of $(\\tau, \\Sigma_\\gamma)$.\n",
    "    - 3b. Re-estimate $(\\tau, \\Sigma_\\gamma)$ using weighted estimating equations (new objective function).\n",
    "5. Use final estimates and conduct inference.\n",
    "\n",
    "\n",
    "**:Unweighted**\n",
    "1. Intialize parameters through least squares $(\\beta, \\tau, L_\\gamma)$ for initial starting points.\n",
    "2. Re-Estimate $(\\tau, L_\\gamma)$ through the unweighted objective function (method of moments).\n",
    "3. Re-estimate $\\beta$ with weighted least squares using $(\\tau, L_\\gamma)$ estimates. \n",
    "4. Use final estimates and conduct inference.\n",
    "\n",
    "\n",
    "Generally, the unweighted code will return less precise estimates as it is less statistically efficient."
   ]
  },
  {
   "cell_type": "code",
   "execution_count": 4,
   "metadata": {},
   "outputs": [
    {
     "name": "stdout",
     "output_type": "stream",
     "text": [
      "\n",
      "******************************************************************************\n",
      "This program contains Ipopt, a library for large-scale nonlinear optimization.\n",
      " Ipopt is released as open source code under the Eclipse Public License (EPL).\n",
      "         For more information visit http://projects.coin-or.org/Ipopt\n",
      "******************************************************************************\n",
      "\n",
      "This is Ipopt version 3.12.10, running with linear solver mumps.\n",
      "NOTE: Other linear solvers might be more efficient (see Ipopt documentation).\n",
      "\n",
      "Number of nonzeros in equality constraint Jacobian...:        0\n",
      "Number of nonzeros in inequality constraint Jacobian.:        0\n",
      "Number of nonzeros in Lagrangian Hessian.............:       28\n",
      "\n",
      "Total number of variables............................:        7\n",
      "                     variables with only lower bounds:        0\n",
      "                variables with lower and upper bounds:        0\n",
      "                     variables with only upper bounds:        0\n",
      "Total number of equality constraints.................:        0\n",
      "Total number of inequality constraints...............:        0\n",
      "        inequality constraints with only lower bounds:        0\n",
      "   inequality constraints with lower and upper bounds:        0\n",
      "        inequality constraints with only upper bounds:        0\n",
      "\n",
      "iter    objective    inf_pr   inf_du lg(mu)  ||d||  lg(rg) alpha_du alpha_pr  ls\n",
      "   0  7.7723228e+05 0.00e+00 1.00e+02  -1.0 0.00e+00    -  0.00e+00 0.00e+00   0\n",
      "   1  7.4765718e+05 0.00e+00 2.80e+01  -1.0 4.79e+00    -  1.00e+00 1.00e+00f  1\n",
      "   2  7.4428050e+05 0.00e+00 5.82e+00  -1.0 1.74e+00    -  1.00e+00 1.00e+00f  1\n",
      "   3  7.4404053e+05 0.00e+00 8.94e-01  -1.0 7.36e-01    -  1.00e+00 1.00e+00f  1\n",
      "   4  7.4403646e+05 0.00e+00 2.07e-02  -1.7 1.30e-01    -  1.00e+00 1.00e+00f  1\n",
      "   5  7.4403646e+05 0.00e+00 8.30e-05  -3.8 4.78e-03    -  1.00e+00 1.00e+00f  1\n",
      "   6  7.4403646e+05 0.00e+00 6.34e-06  -5.7 2.34e-04    -  1.00e+00 1.00e+00f  1\n",
      "   7  7.4403646e+05 0.00e+00 4.32e-07  -8.6 1.65e-05    -  1.00e+00 1.00e+00f  1\n",
      "   8  7.4403646e+05 0.00e+00 2.94e-08  -8.6 1.11e-06    -  1.00e+00 1.00e+00f  1\n",
      "   9  7.4403646e+05 0.00e+00 2.00e-09  -8.6 7.56e-08    -  1.00e+00 1.00e+00f  1\n",
      "\n",
      "Number of Iterations....: 9\n",
      "\n",
      "                                   (scaled)                 (unscaled)\n",
      "Objective...............:   6.2264336012792228e+01    7.4403645586888003e+05\n",
      "Dual infeasibility......:   2.0030115285395151e-09    2.3935268472996540e-05\n",
      "Constraint violation....:   0.0000000000000000e+00    0.0000000000000000e+00\n",
      "Complementarity.........:   0.0000000000000000e+00    0.0000000000000000e+00\n",
      "Overall NLP error.......:   2.0030115285395151e-09    2.3935268472996540e-05\n",
      "\n",
      "\n",
      "Number of objective function evaluations             = 10\n",
      "Number of objective gradient evaluations             = 10\n",
      "Number of equality constraint evaluations            = 0\n",
      "Number of inequality constraint evaluations          = 0\n",
      "Number of equality constraint Jacobian evaluations   = 0\n",
      "Number of inequality constraint Jacobian evaluations = 0\n",
      "Number of Lagrangian Hessian evaluations             = 9\n",
      "Total CPU secs in IPOPT (w/o function evaluations)   =      0.775\n",
      "Total CPU secs in NLP function evaluations           =      0.158\n",
      "\n",
      "EXIT: Optimal Solution Found.\n",
      "This is Ipopt version 3.12.10, running with linear solver mumps.\n",
      "NOTE: Other linear solvers might be more efficient (see Ipopt documentation).\n",
      "\n",
      "Number of nonzeros in equality constraint Jacobian...:        0\n",
      "Number of nonzeros in inequality constraint Jacobian.:        0\n",
      "Number of nonzeros in Lagrangian Hessian.............:       28\n",
      "\n",
      "Total number of variables............................:        7\n",
      "                     variables with only lower bounds:        0\n",
      "                variables with lower and upper bounds:        0\n",
      "                     variables with only upper bounds:        0\n",
      "Total number of equality constraints.................:        0\n",
      "Total number of inequality constraints...............:        0\n",
      "        inequality constraints with only lower bounds:        0\n",
      "   inequality constraints with lower and upper bounds:        0\n",
      "        inequality constraints with only upper bounds:        0\n",
      "\n",
      "iter    objective    inf_pr   inf_du lg(mu)  ||d||  lg(rg) alpha_du alpha_pr  ls\n",
      "   0  2.8527985e+04 0.00e+00 1.00e+02  -1.0 0.00e+00    -  0.00e+00 0.00e+00   0\n",
      "   1  2.8499531e+04 0.00e+00 2.18e+01  -1.0 1.80e+00    -  1.00e+00 1.00e+00f  1\n",
      "   2  2.8498485e+04 0.00e+00 4.87e+00  -1.0 6.59e-01    -  1.00e+00 1.00e+00f  1\n",
      "   3  2.8498419e+04 0.00e+00 1.56e+00  -1.0 1.18e-01    -  1.00e+00 1.00e+00f  1\n",
      "   4  2.8498416e+04 0.00e+00 1.57e-02  -1.0 4.12e-03    -  1.00e+00 1.00e+00f  1\n",
      "   5  2.8498416e+04 0.00e+00 4.17e-07  -3.8 4.65e-06    -  1.00e+00 1.00e+00f  1\n",
      "   6  2.8498416e+04 0.00e+00 3.60e-08  -8.6 1.93e-08    -  1.00e+00 1.00e+00f  1\n",
      "   7  2.8498416e+04 0.00e+00 7.33e-10  -8.6 5.03e-09    -  1.00e+00 1.00e+00f  1\n",
      "\n",
      "Number of Iterations....: 7\n",
      "\n",
      "                                   (scaled)                 (unscaled)\n",
      "Objective...............:   7.5487575995472400e+02    2.8498415962500294e+04\n",
      "Dual infeasibility......:   7.3256229214343773e-10    2.7656027690170504e-08\n",
      "Constraint violation....:   0.0000000000000000e+00    0.0000000000000000e+00\n",
      "Complementarity.........:   0.0000000000000000e+00    0.0000000000000000e+00\n",
      "Overall NLP error.......:   7.3256229214343773e-10    2.7656027690170504e-08\n",
      "\n",
      "\n",
      "Number of objective function evaluations             = 8\n",
      "Number of objective gradient evaluations             = 8\n",
      "Number of equality constraint evaluations            = 0\n",
      "Number of inequality constraint evaluations          = 0\n",
      "Number of equality constraint Jacobian evaluations   = 0\n",
      "Number of inequality constraint Jacobian evaluations = 0\n",
      "Number of Lagrangian Hessian evaluations             = 7\n",
      "Total CPU secs in IPOPT (w/o function evaluations)   =      0.010\n",
      "Total CPU secs in NLP function evaluations           =      0.142\n",
      "\n",
      "EXIT: Optimal Solution Found.\n"
     ]
    },
    {
     "data": {
      "text/plain": [
       "──────────────────────────────────────────────────────────────────────\n",
       "                     Estimate  Std. Error  Wald Statistic  Pr(>|Wald|)\n",
       "──────────────────────────────────────────────────────────────────────\n",
       "β: (Intercept)   100.077        0.346108         83606.99       <1e-99\n",
       "β: agegroup       14.9864       0.063344         55973.45       <1e-99\n",
       "β: gender: Male   -9.92749      0.100267          9803.07       <1e-99\n",
       "β: bmi             0.248811     0.0126703          385.62       <1e-85\n",
       "β: meds: OnMeds  -10.115        0.123701          6686.30       <1e-99\n",
       "τ: (Intercept)    -2.63253      1.0034               6.88       0.0087\n",
       "τ: agegroup        1.50585      0.0567203          704.84       <1e-99\n",
       "τ: meds: OnMeds   -0.426159     0.0535525           63.33       <1e-14\n",
       "τ: bmi             0.00434957   0.0472932            0.01       0.9267\n",
       "──────────────────────────────────────────────────────────────────────"
      ]
     },
     "execution_count": 4,
     "metadata": {},
     "output_type": "execute_result"
    }
   ],
   "source": [
    "fit!(vlmm)"
   ]
  },
  {
   "cell_type": "markdown",
   "metadata": {},
   "source": [
    "By default, the `fit!()` function fits with the `IPOPT` solver. This can be changed easily by specifying a different solver."
   ]
  },
  {
   "cell_type": "code",
   "execution_count": 5,
   "metadata": {},
   "outputs": [
    {
     "data": {
      "text/plain": [
       "─────────────────────────────────────────────────────────────────────\n",
       "                    Estimate  Std. Error  Wald Statistic  Pr(>|Wald|)\n",
       "─────────────────────────────────────────────────────────────────────\n",
       "β: (Intercept)   100.07        0.352407         80633.82       <1e-99\n",
       "β: agegroup       14.9858      0.0633186        56013.88       <1e-99\n",
       "β: gender: Male   -9.92915     0.1002            9819.58       <1e-99\n",
       "β: bmi             0.249165    0.0130076          366.92       <1e-81\n",
       "β: meds: OnMeds  -10.1153      0.123551          6702.90       <1e-99\n",
       "τ: (Intercept)    -1.73145     0.859082             4.06       0.0439\n",
       "τ: agegroup        1.50106     0.0285644         2761.50       <1e-99\n",
       "τ: meds: OnMeds   -0.438733    0.0517293           71.93       <1e-16\n",
       "τ: bmi            -0.0311176   0.0365688            0.72       0.3948\n",
       "─────────────────────────────────────────────────────────────────────"
      ]
     },
     "execution_count": 5,
     "metadata": {},
     "output_type": "execute_result"
    }
   ],
   "source": [
    "fit!(vlmm, NLopt.NLoptSolver(algorithm = :LD_MMA, maxeval = 4000))"
   ]
  },
  {
   "cell_type": "code",
   "execution_count": 6,
   "metadata": {},
   "outputs": [
    {
     "name": "stdout",
     "output_type": "stream",
     "text": [
      "\n",
      "Knitro 12.1.1 STUDENT LICENSE (problem size limit = 300)\n",
      "\n",
      "Knitro 12.1.1 STUDENT LICENSE (problem size limit = 300)\n",
      "\n",
      "=======================================\n",
      "            Student License\n",
      "       (NOT FOR COMMERCIAL USE)\n",
      "         Artelys Knitro 12.1.1\n",
      "=======================================\n",
      "\n",
      "Knitro presolve eliminated 0 variables and 0 constraints.\n",
      "\n",
      "outlev:                  3\n",
      "The problem is identified as unconstrained.\n",
      "Knitro changing algorithm from AUTO to 1.\n",
      "Knitro changing bar_initpt from AUTO to 3.\n",
      "Knitro changing bar_murule from AUTO to 4.\n",
      "Knitro changing bar_penaltycons from AUTO to 0.\n",
      "Knitro changing bar_penaltyrule from AUTO to 2.\n",
      "Knitro changing bar_switchrule from AUTO to 0.\n",
      "Knitro changing linesearch from AUTO to 2.\n",
      "Knitro changing linsolver from AUTO to 2.\n",
      "\n",
      "Problem Characteristics                                 (   Presolved)\n",
      "-----------------------\n",
      "Objective goal:  Minimize\n",
      "Objective type:  general\n",
      "Number of variables:                                  7 (           7)\n",
      "    bounded below only:                               0 (           0)\n",
      "    bounded above only:                               0 (           0)\n",
      "    bounded below and above:                          0 (           0)\n",
      "    fixed:                                            0 (           0)\n",
      "    free:                                             7 (           7)\n",
      "Number of constraints:                                0 (           0)\n",
      "    linear equalities:                                0 (           0)\n",
      "    quadratic equalities:                             0 (           0)\n",
      "    gen. nonlinear equalities:                        0 (           0)\n",
      "    linear one-sided inequalities:                    0 (           0)\n",
      "    quadratic one-sided inequalities:                 0 (           0)\n",
      "    gen. nonlinear one-sided inequalities:            0 (           0)\n",
      "    linear two-sided inequalities:                    0 (           0)\n",
      "    quadratic two-sided inequalities:                 0 (           0)\n",
      "    gen. nonlinear two-sided inequalities:            0 (           0)\n",
      "Number of nonzeros in Jacobian:                       0 (           0)\n",
      "Number of nonzeros in Hessian:                       28 (          28)\n",
      "\n",
      "  Iter      Objective      FeasError   OptError    ||Step||    CGits \n",
      "--------  --------------  ----------  ----------  ----------  -------\n",
      "       0    7.772323e+05   0.000e+00\n",
      "       1    7.476572e+05   0.000e+00   2.797e+01   5.358e+00        0\n",
      "       2    7.442805e+05   0.000e+00   5.819e+00   2.315e+00        0\n",
      "       3    7.440405e+05   0.000e+00   8.942e-01   8.735e-01        0\n",
      "       4    7.440365e+05   0.000e+00   2.071e-02   1.421e-01        0\n",
      "       5    7.440365e+05   0.000e+00   8.303e-05   4.959e-03        0\n",
      "       6    7.440365e+05   0.000e+00   6.337e-06   2.365e-04        0\n",
      "\n",
      "EXIT: Locally optimal solution found.\n",
      "\n",
      "Final Statistics\n",
      "----------------\n",
      "Final objective value               =   7.44036455868905e+05\n",
      "Final feasibility error (abs / rel) =   0.00e+00 / 0.00e+00\n",
      "Final optimality error  (abs / rel) =   6.34e-06 / 1.02e-07\n",
      "# of iterations                     =          6 \n",
      "# of CG iterations                  =          0 \n",
      "# of function evaluations           =          7\n",
      "# of gradient evaluations           =          7\n",
      "# of Hessian evaluations            =          6\n",
      "Total program time (secs)           =       0.14112 (     0.141 CPU time)\n",
      "Time spent in evaluations (secs)    =       0.12211\n",
      "\n",
      "===============================================================================\n",
      "\n",
      "\n",
      "=======================================\n",
      "            Student License\n",
      "       (NOT FOR COMMERCIAL USE)\n",
      "         Artelys Knitro 12.1.1\n",
      "=======================================\n",
      "\n",
      "Knitro presolve eliminated 0 variables and 0 constraints.\n",
      "\n",
      "outlev:                  3\n",
      "xtol_iters:              3\n",
      "The problem is identified as unconstrained.\n",
      "Knitro changing algorithm from AUTO to 1.\n",
      "Knitro changing bar_initpt from AUTO to 3.\n",
      "Knitro changing bar_murule from AUTO to 4.\n",
      "Knitro changing bar_penaltycons from AUTO to 0.\n",
      "Knitro changing bar_penaltyrule from AUTO to 2.\n",
      "Knitro changing bar_switchrule from AUTO to 0.\n",
      "Knitro changing linesearch from AUTO to 2.\n",
      "Knitro changing linsolver from AUTO to 2.\n",
      "\n",
      "Problem Characteristics                                 (   Presolved)\n",
      "-----------------------\n",
      "Objective goal:  Minimize\n",
      "Objective type:  general\n",
      "Number of variables:                                  7 (           7)\n",
      "    bounded below only:                               0 (           0)\n",
      "    bounded above only:                               0 (           0)\n",
      "    bounded below and above:                          0 (           0)\n",
      "    fixed:                                            0 (           0)\n",
      "    free:                                             7 (           7)\n",
      "Number of constraints:                                0 (           0)\n",
      "    linear equalities:                                0 (           0)\n",
      "    quadratic equalities:                             0 (           0)\n",
      "    gen. nonlinear equalities:                        0 (           0)\n",
      "    linear one-sided inequalities:                    0 (           0)\n",
      "    quadratic one-sided inequalities:                 0 (           0)\n",
      "    gen. nonlinear one-sided inequalities:            0 (           0)\n",
      "    linear two-sided inequalities:                    0 (           0)\n",
      "    quadratic two-sided inequalities:                 0 (           0)\n",
      "    gen. nonlinear two-sided inequalities:            0 (           0)\n",
      "Number of nonzeros in Jacobian:                       0 (           0)\n",
      "Number of nonzeros in Hessian:                       28 (          28)\n",
      "\n",
      "  Iter      Objective      FeasError   OptError    ||Step||    CGits \n",
      "--------  --------------  ----------  ----------  ----------  -------\n",
      "       0    2.852796e+04   0.000e+00\n",
      "       1    2.849950e+04   0.000e+00   2.178e+01   1.878e+00        0\n",
      "       2    2.849846e+04   0.000e+00   4.872e+00   6.600e-01        0\n",
      "       3    2.849839e+04   0.000e+00   1.562e+00   1.187e-01        0\n",
      "       4    2.849839e+04   0.000e+00   1.565e-02   4.138e-03        0\n",
      "       5    2.849839e+04   0.000e+00   4.174e-07   5.734e-06        0\n",
      "\n",
      "EXIT: Locally optimal solution found.\n",
      "\n",
      "Final Statistics\n",
      "----------------\n",
      "Final objective value               =   2.84983888360647e+04\n",
      "Final feasibility error (abs / rel) =   0.00e+00 / 0.00e+00\n",
      "Final optimality error  (abs / rel) =   4.17e-07 / 4.17e-09\n",
      "# of iterations                     =          5 \n",
      "# of CG iterations                  =          0 \n",
      "# of function evaluations           =          6\n",
      "# of gradient evaluations           =          6\n",
      "# of Hessian evaluations            =          5\n",
      "Total program time (secs)           =       0.10914 (     0.109 CPU time)\n",
      "Time spent in evaluations (secs)    =       0.09646\n",
      "\n",
      "===============================================================================\n",
      "\n"
     ]
    },
    {
     "data": {
      "text/plain": [
       "──────────────────────────────────────────────────────────────────────\n",
       "                     Estimate  Std. Error  Wald Statistic  Pr(>|Wald|)\n",
       "──────────────────────────────────────────────────────────────────────\n",
       "β: (Intercept)   100.077        0.346108         83607.01       <1e-99\n",
       "β: agegroup       14.9864       0.063344         55973.45       <1e-99\n",
       "β: gender: Male   -9.92749      0.100267          9803.07       <1e-99\n",
       "β: bmi             0.248811     0.0126703          385.62       <1e-85\n",
       "β: meds: OnMeds  -10.115        0.123701          6686.30       <1e-99\n",
       "τ: (Intercept)    -2.63253      1.0034               6.88       0.0087\n",
       "τ: agegroup        1.50585      0.0567204          704.83       <1e-99\n",
       "τ: meds: OnMeds   -0.426159     0.0535525           63.33       <1e-14\n",
       "τ: bmi             0.00434962   0.0472933            0.01       0.9267\n",
       "──────────────────────────────────────────────────────────────────────"
      ]
     },
     "execution_count": 6,
     "metadata": {},
     "output_type": "execute_result"
    }
   ],
   "source": [
    "fit!(vlmm, KNITRO.KnitroSolver(outlev=3))"
   ]
  },
  {
   "cell_type": "markdown",
   "metadata": {},
   "source": [
    "### Weighted Only Estimation Procedure\n",
    "\n",
    "The following demonstrates using only the weighted objective function to fit the model."
   ]
  },
  {
   "cell_type": "code",
   "execution_count": 7,
   "metadata": {},
   "outputs": [
    {
     "name": "stdout",
     "output_type": "stream",
     "text": [
      "This is Ipopt version 3.12.10, running with linear solver mumps.\n",
      "NOTE: Other linear solvers might be more efficient (see Ipopt documentation).\n",
      "\n",
      "Number of nonzeros in equality constraint Jacobian...:        0\n",
      "Number of nonzeros in inequality constraint Jacobian.:        0\n",
      "Number of nonzeros in Lagrangian Hessian.............:       28\n",
      "\n",
      "Total number of variables............................:        7\n",
      "                     variables with only lower bounds:        0\n",
      "                variables with lower and upper bounds:        0\n",
      "                     variables with only upper bounds:        0\n",
      "Total number of equality constraints.................:        0\n",
      "Total number of inequality constraints...............:        0\n",
      "        inequality constraints with only lower bounds:        0\n",
      "   inequality constraints with lower and upper bounds:        0\n",
      "        inequality constraints with only upper bounds:        0\n",
      "\n",
      "iter    objective    inf_pr   inf_du lg(mu)  ||d||  lg(rg) alpha_du alpha_pr  ls\n",
      "   0  2.6559167e+04 0.00e+00 1.00e+02  -1.0 0.00e+00    -  0.00e+00 0.00e+00   0\n",
      "   1  2.5421512e+04 0.00e+00 4.68e+01  -1.0 4.79e+00    -  1.00e+00 1.00e+00f  1\n",
      "   2  2.5276767e+04 0.00e+00 5.43e+00  -1.0 1.74e+00    -  1.00e+00 1.00e+00f  1\n",
      "   3  2.5266112e+04 0.00e+00 6.21e-01  -1.0 7.11e-01    -  1.00e+00 1.00e+00f  1\n",
      "   4  2.5265938e+04 0.00e+00 1.28e-02  -1.7 1.21e-01    -  1.00e+00 1.00e+00f  1\n",
      "   5  2.5265937e+04 0.00e+00 6.78e-05  -3.8 3.57e-03    -  1.00e+00 1.00e+00f  1\n",
      "   6  2.5265937e+04 0.00e+00 5.83e-06  -5.7 1.02e-04    -  1.00e+00 1.00e+00f  1\n",
      "   7  2.5265937e+04 0.00e+00 4.65e-07  -8.6 7.94e-06    -  1.00e+00 1.00e+00f  1\n",
      "   8  2.5265937e+04 0.00e+00 3.70e-08  -8.6 6.21e-07    -  1.00e+00 1.00e+00f  1\n",
      "   9  2.5265937e+04 0.00e+00 2.94e-09  -8.6 4.94e-08    -  1.00e+00 1.00e+00f  1\n",
      "\n",
      "Number of Iterations....: 9\n",
      "\n",
      "                                   (scaled)                 (unscaled)\n",
      "Objective...............:   8.4308651587591143e+01    2.5265937413524705e+04\n",
      "Dual infeasibility......:   2.9437053865467624e-09    8.8218082794355713e-07\n",
      "Constraint violation....:   0.0000000000000000e+00    0.0000000000000000e+00\n",
      "Complementarity.........:   0.0000000000000000e+00    0.0000000000000000e+00\n",
      "Overall NLP error.......:   2.9437053865467624e-09    8.8218082794355713e-07\n",
      "\n",
      "\n",
      "Number of objective function evaluations             = 10\n",
      "Number of objective gradient evaluations             = 10\n",
      "Number of equality constraint evaluations            = 0\n",
      "Number of inequality constraint evaluations          = 0\n",
      "Number of equality constraint Jacobian evaluations   = 0\n",
      "Number of inequality constraint Jacobian evaluations = 0\n",
      "Number of Lagrangian Hessian evaluations             = 9\n",
      "Total CPU secs in IPOPT (w/o function evaluations)   =      0.010\n",
      "Total CPU secs in NLP function evaluations           =      0.181\n",
      "\n",
      "EXIT: Optimal Solution Found.\n",
      "This is Ipopt version 3.12.10, running with linear solver mumps.\n",
      "NOTE: Other linear solvers might be more efficient (see Ipopt documentation).\n",
      "\n",
      "Number of nonzeros in equality constraint Jacobian...:        0\n",
      "Number of nonzeros in inequality constraint Jacobian.:        0\n",
      "Number of nonzeros in Lagrangian Hessian.............:       28\n",
      "\n",
      "Total number of variables............................:        7\n",
      "                     variables with only lower bounds:        0\n",
      "                variables with lower and upper bounds:        0\n",
      "                     variables with only upper bounds:        0\n",
      "Total number of equality constraints.................:        0\n",
      "Total number of inequality constraints...............:        0\n",
      "        inequality constraints with only lower bounds:        0\n",
      "   inequality constraints with lower and upper bounds:        0\n",
      "        inequality constraints with only upper bounds:        0\n",
      "\n",
      "iter    objective    inf_pr   inf_du lg(mu)  ||d||  lg(rg) alpha_du alpha_pr  ls\n",
      "   0  2.7145501e+04 0.00e+00 1.00e+02  -1.0 0.00e+00    -  0.00e+00 0.00e+00   0\n",
      "   1  2.7127403e+04 0.00e+00 5.61e+01  -1.0 1.79e+00    -  1.00e+00 1.00e+00f  1\n",
      "   2  2.7126561e+04 0.00e+00 2.26e+01  -1.0 6.44e-01    -  1.00e+00 1.00e+00f  1\n",
      "   3  2.7126502e+04 0.00e+00 6.74e+00  -1.0 1.12e-01    -  1.00e+00 1.00e+00f  1\n",
      "   4  2.7126500e+04 0.00e+00 5.75e-02  -1.0 3.59e-03    -  1.00e+00 1.00e+00f  1\n",
      "   5  2.7126500e+04 0.00e+00 1.11e-06  -2.5 3.52e-06    -  1.00e+00 1.00e+00f  1\n",
      "   6  2.7126500e+04 0.00e+00 5.51e-08  -8.6 1.20e-08    -  1.00e+00 1.00e+00f  1\n",
      "   7  2.7126500e+04 0.00e+00 1.73e-09  -8.6 1.52e-09    -  1.00e+00 1.00e+00f  1\n",
      "\n",
      "Number of Iterations....: 7\n",
      "\n",
      "                                   (scaled)                 (unscaled)\n",
      "Objective...............:   3.5252909506437709e+03    2.7126500235010870e+04\n",
      "Dual infeasibility......:   1.7254234311118819e-09    1.3276832966369057e-08\n",
      "Constraint violation....:   0.0000000000000000e+00    0.0000000000000000e+00\n",
      "Complementarity.........:   0.0000000000000000e+00    0.0000000000000000e+00\n",
      "Overall NLP error.......:   1.7254234311118819e-09    1.3276832966369057e-08\n",
      "\n",
      "\n",
      "Number of objective function evaluations             = 8\n",
      "Number of objective gradient evaluations             = 8\n",
      "Number of equality constraint evaluations            = 0\n",
      "Number of inequality constraint evaluations          = 0\n",
      "Number of equality constraint Jacobian evaluations   = 0\n",
      "Number of inequality constraint Jacobian evaluations = 0\n",
      "Number of Lagrangian Hessian evaluations             = 7\n",
      "Total CPU secs in IPOPT (w/o function evaluations)   =      0.009\n",
      "Total CPU secs in NLP function evaluations           =      0.143\n",
      "\n",
      "EXIT: Optimal Solution Found.\n"
     ]
    },
    {
     "data": {
      "text/plain": [
       "──────────────────────────────────────────────────────────────────────\n",
       "                     Estimate  Std. Error  Wald Statistic  Pr(>|Wald|)\n",
       "──────────────────────────────────────────────────────────────────────\n",
       "β: (Intercept)   100.012        0.600366         27750.81       <1e-99\n",
       "β: agegroup       14.9991       0.0642862        54436.98       <1e-99\n",
       "β: gender: Male   -9.92815      0.103299          9237.23       <1e-99\n",
       "β: bmi             0.250905     0.023382           115.15       <1e-26\n",
       "β: meds: OnMeds  -10.1508       0.128621          6228.40       <1e-99\n",
       "τ: (Intercept)    -2.63686      1.04134              6.41       0.0113\n",
       "τ: agegroup        1.50697      0.0621493          587.95       <1e-99\n",
       "τ: meds: OnMeds   -0.42941      0.0527195           66.34       <1e-15\n",
       "τ: bmi             0.00444777   0.0494806            0.01       0.9284\n",
       "──────────────────────────────────────────────────────────────────────"
      ]
     },
     "execution_count": 7,
     "metadata": {},
     "output_type": "execute_result"
    }
   ],
   "source": [
    "fit!(vlmm; fittype=:Weighted, weightedruns=2)"
   ]
  },
  {
   "cell_type": "markdown",
   "metadata": {},
   "source": [
    "## Tips\n",
    "\n",
    "- If the `fit!()` function is giving errors, a different solver may remedy the issue. By default, `VarLMM` is using the IPOPT solver, but it can take any solver that supports [MathProgBase.jl](https://github.com/JuliaOpt/MathProgBase.jl). In our experience, [Knitro.jl](https://github.com/JuliaOpt/KNITRO.jl) works the best, but it has only a commercial or academic trial period. \n",
    "- The `fit!()` function can also perform poorly if the variance contribution from the random effects heavily outweighs the contribution from the within-subject variance. Standardizing continuous variables can help this immensely. To standardize a variable, a convenient way is to apply the `zscore` function from [StatsBase.jl](https://github.com/JuliaStats/StatsBase.jl) to the variable.\n",
    "- Using the `:Weighted` option for `fittype` in the `fit!()` function can also work better with non-standardized variables. This performs the optimization using only the weighted objective function. "
   ]
  },
  {
   "cell_type": "code",
   "execution_count": null,
   "metadata": {},
   "outputs": [],
   "source": []
  },
  {
   "cell_type": "markdown",
   "metadata": {},
   "source": [
    "## Simulating response\n",
    "\n",
    "The `rvarlmm()` and `rvarlmm!()` functions can be used to generate a respone from user-supplied data and parameters. \n",
    "\n",
    "The `rvarlmm()` takes arrays of matricies of the data in addition to the reponse. It generates a simulated response from the VarLMM model based on:\n",
    "- `Xs`: array of each clusters `X`: mean fixed effects covariates\n",
    "- `Zs`: array of each clusters `Z`: random location effects covariates\n",
    "- `Ws`: array of each clusters `W`: within-subject variance fixed effects covariates\n",
    "- `β`: mean fixed effects vector\n",
    "- `τ`: within-subject variance fixed effects vector\n",
    "- `respdist`: the distribution for response. Default is MvNormal. \n",
    "- `Σγ`: random location effects covariance matrix. \n",
    "- `Σγω`: joint random location and random scale effects covariance matrix (if generating from full model).\n",
    "\n",
    "The `rvarlmm!()` function can be used to generate a simulated response from the VarLMM model based on a datatable and place the generated response into the datatable with the `respname` field. \n",
    "Note: **the datatable MUST be ordered by grouping variable for it to generate in the correct order.\n",
    "This can be checked via `datatable == sort(datatable, idvar)`. The response is based on:\n",
    "\n",
    "- `meanformula`: represents the formula for the mean fixed effects `β` (variables in X matrix)\n",
    "- `reformula`: represents the formula for the mean random effects γ (variables in Z matrix)\n",
    "- `wsvarformula`: represents the formula for the within-subject variance fixed effects τ (variables in W matrix)\n",
    "- `idvar`: the id variable for groupings.\n",
    "- `datatable`: the data table holding all of the data for the model. For this function it **must be in order**.\n",
    "- `β`: mean fixed effects vector\n",
    "- `τ`: within-subject variance fixed effects vector\n",
    "- `respdist`: the distribution for response. Default is MvNormal. \n",
    "- `Σγ`: random location effects covariance matrix. \n",
    "- `Σγω`: joint random location and random scale effects covariance matrix (if generating from full model)\n",
    "- `respname`: symbol representing the simulated response variable name.\n",
    "\n",
    "For both functions, only one of the Σγ or Σγω matrices have to be specified in order to use the function. Σγ can be used to specify that the generative model will not include a random scale component. It outputs `ys`: an array of reponse `y` that match the order of the data arrays (`Xs, Zs, Ws`)."
   ]
  },
  {
   "cell_type": "code",
   "execution_count": 10,
   "metadata": {},
   "outputs": [
    {
     "data": {
      "text/plain": [
       "7-element Array{Float64,1}:\n",
       " -0.07117541750437145\n",
       " -1.1460703751022492 \n",
       "  4.519421309839423  \n",
       "  0.18247559667949215\n",
       "  0.6224277746034257 \n",
       " -2.07057805504152   \n",
       "  1.9612563619429881 "
      ]
     },
     "execution_count": 10,
     "metadata": {},
     "output_type": "execute_result"
    }
   ],
   "source": [
    "Random.seed!(123)\n",
    "t = table((id = [1; 1; 2; 3; 3; 3; 4], y = randn(7),\n",
    "x1 = ones(7), x2 = randn(7), x3 = randn(7), z1 = ones(7),\n",
    "z2 = randn(7), w1 = ones(7), w2 = randn(7), w3 = randn(7)))\n",
    "df = DataFrame(t)\n",
    "\n",
    "f1 = @formula(y ~ 1 + x2 + x3)\n",
    "f2 = @formula(y ~ 1 + z2)\n",
    "f3 = @formula(y ~ 1 + w2 + w3)\n",
    "\n",
    "β = zeros(3)\n",
    "τ = zeros(3)\n",
    "Σγ = [1. 0.; 0. 1.]\n",
    "\n",
    "rvarlmm!(f1, f2, f3, :id, t, β, τ;\n",
    "        Σγ = Σγ, respname = :response)"
   ]
  },
  {
   "cell_type": "code",
   "execution_count": 15,
   "metadata": {},
   "outputs": [
    {
     "data": {
      "text/plain": [
       "Table with 7 rows, 11 columns:\n",
       "Columns:\n",
       "\u001b[1m#   \u001b[22m\u001b[1mcolname   \u001b[22m\u001b[1mtype\u001b[22m\n",
       "─────────────────────\n",
       "1   id        Int64\n",
       "2   y         Float64\n",
       "3   x1        Float64\n",
       "4   x2        Float64\n",
       "5   x3        Float64\n",
       "6   z1        Float64\n",
       "7   z2        Float64\n",
       "8   w1        Float64\n",
       "9   w2        Float64\n",
       "10  w3        Float64\n",
       "11  response  Float64"
      ]
     },
     "execution_count": 15,
     "metadata": {},
     "output_type": "execute_result"
    }
   ],
   "source": [
    "transform(t, :response => [-0.07117541750437145\n",
    " -1.1460703751022492 \n",
    "  4.519421309839423  \n",
    "  0.18247559667949215\n",
    "  0.6224277746034257 \n",
    " -2.07057805504152   \n",
    "  1.9612563619429881])"
   ]
  },
  {
   "cell_type": "code",
   "execution_count": 16,
   "metadata": {},
   "outputs": [
    {
     "data": {
      "text/plain": [
       "true"
      ]
     },
     "execution_count": 16,
     "metadata": {},
     "output_type": "execute_result"
    }
   ],
   "source": [
    "typeof(t) <: IndexedTable"
   ]
  },
  {
   "cell_type": "code",
   "execution_count": 17,
   "metadata": {},
   "outputs": [
    {
     "data": {
      "text/plain": [
       "7-element Array{Float64,1}:\n",
       " -0.11667873622421054\n",
       " -1.3545937159271269 \n",
       "  4.731488534391006  \n",
       " -4.033494615797211  \n",
       " -1.5126831892388284 \n",
       " -1.1585730212737306 \n",
       " -0.276205556650883  "
      ]
     },
     "execution_count": 17,
     "metadata": {},
     "output_type": "execute_result"
    }
   ],
   "source": [
    "rvarlmm!(f1, f2, f3, :id, df, β, τ;\n",
    "        Σγ = Σγ, respname = :response)"
   ]
  },
  {
   "cell_type": "code",
   "execution_count": 18,
   "metadata": {},
   "outputs": [
    {
     "data": {
      "text/plain": [
       "7-element Array{Float64,1}:\n",
       " -0.11667873622421054\n",
       " -1.3545937159271269 \n",
       "  4.731488534391006  \n",
       " -4.033494615797211  \n",
       " -1.5126831892388284 \n",
       " -1.1585730212737306 \n",
       " -0.276205556650883  "
      ]
     },
     "execution_count": 18,
     "metadata": {},
     "output_type": "execute_result"
    }
   ],
   "source": [
    "df[!, :response]"
   ]
  },
  {
   "cell_type": "code",
   "execution_count": null,
   "metadata": {},
   "outputs": [],
   "source": []
  }
 ],
 "metadata": {
  "@webio": {
   "lastCommId": null,
   "lastKernelId": null
  },
  "kernelspec": {
   "display_name": "Julia 1.3.1",
   "language": "julia",
   "name": "julia-1.3"
  },
  "language_info": {
   "file_extension": ".jl",
   "mimetype": "application/julia",
   "name": "julia",
   "version": "1.3.1"
  }
 },
 "nbformat": 4,
 "nbformat_minor": 2
}
